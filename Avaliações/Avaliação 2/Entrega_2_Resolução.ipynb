{
 "cells": [
  {
   "cell_type": "markdown",
   "id": "61304f36",
   "metadata": {},
   "source": [
    "Dupla: \n",
    "- Gabriel Yuri Ramalho Ferreira.\n",
    "- Caio Henrique Barbosa da Silva."
   ]
  },
  {
   "cell_type": "markdown",
   "id": "78aca2f2",
   "metadata": {},
   "source": [
    "Questão 1:"
   ]
  },
  {
   "cell_type": "code",
   "execution_count": 17,
   "id": "08550a3c",
   "metadata": {},
   "outputs": [
    {
     "name": "stdout",
     "output_type": "stream",
     "text": [
      "[1, 5, 6, 1, 7, 6, 13, 7, 20, 13, 33, 20, 53, 33, 86, 53, 139, 86, 225, 139]\n"
     ]
    }
   ],
   "source": [
    "def fetuccine(termo1,termo2,n):\n",
    "    import sys\n",
    "    if n < 3:\n",
    "        print(\"Insira um valor a partir de 3 para 'n'!\")\n",
    "        sys.exit()\n",
    "        \n",
    "    termo_atual = 3\n",
    "    lista_valores = []\n",
    "    lista_valores.append(termo1)\n",
    "    lista_valores.append(termo2)\n",
    "    \n",
    "    for i in range(n-2):\n",
    "        if termo_atual % 2 == 1:\n",
    "            proximo_valor = lista_valores[i] + lista_valores[i+1]\n",
    "            lista_valores.append(proximo_valor)\n",
    "            \n",
    "        else:\n",
    "            proximo_valor = lista_valores[i] - lista_valores[i+1]\n",
    "            if proximo_valor < 0:\n",
    "                proximo_valor *= -1\n",
    "            lista_valores.append(proximo_valor)\n",
    "\n",
    "        termo_atual += 1\n",
    "\n",
    "    print(lista_valores)\n",
    "    \n",
    "fetuccine(1,5,20)"
   ]
  },
  {
   "cell_type": "markdown",
   "id": "c4d5c193",
   "metadata": {},
   "source": [
    "Questão 2:"
   ]
  },
  {
   "cell_type": "code",
   "execution_count": 19,
   "id": "f653eebd",
   "metadata": {},
   "outputs": [
    {
     "name": "stdout",
     "output_type": "stream",
     "text": [
      "Primeira lista:                 [9, 2, 3]\n",
      "Segunda lista:                     [8, 2]\n",
      "                     --------------------\n",
      "Somatória:                   [1, 0, 0, 5]\n"
     ]
    }
   ],
   "source": [
    "def somaElementosLista(lista1,lista2):\n",
    "    import sys\n",
    "    \n",
    "    if lista1 == [] or lista2 == []:\n",
    "        print(\"Uma lista ou as duas estão vazias!\")\n",
    "        sys.exit()\n",
    "        \n",
    "    lista1_global = lista1.copy()\n",
    "    lista2_global = lista2.copy()\n",
    "    lista_soma = []\n",
    "\n",
    "    #Igualando a lista 2 com a lista 1:\n",
    "    if len(lista1) > len(lista2):\n",
    "        while len(lista2) < len(lista1):\n",
    "            lista2.insert(0,0)\n",
    "\n",
    "    #Igualando a lista 1 com a lista 2:\n",
    "    if len(lista2) > len(lista1):\n",
    "        while len(lista1) < len(lista2):\n",
    "            lista1.insert(0,0)\n",
    "        print(lista1)\n",
    "\n",
    "    #Criando a lista soma com 0 de acordo com o tamanho da maior lista:\n",
    "    if len(lista1) > len(lista2):\n",
    "        for x in range(len(lista1)):\n",
    "            lista_soma.append(0)\n",
    "\n",
    "    if len(lista2) > len(lista1):\n",
    "        for y in range(len(lista2)):\n",
    "            lista_soma.append(0)\n",
    "\n",
    "    elif len(lista1) == len(lista2):\n",
    "        for z in range(len(lista2)):\n",
    "            lista_soma.append(0)\n",
    "    \n",
    "    \n",
    "    for i in range(len(lista_soma) -1, -1, -1):\n",
    "        elemento_atual = 0\n",
    "        resto = 0\n",
    "        elemento_atual = lista1[i] + lista2[i]\n",
    "        \n",
    "        if elemento_atual > 9:\n",
    "            resto = elemento_atual % 10\n",
    "            lista1[i-1] += 1\n",
    "            lista_soma[i] = resto\n",
    "        else:\n",
    "            lista_soma[i] = elemento_atual\n",
    "\n",
    "    #Verifica se a última casa do número extrapola para a próxima:\n",
    "    if elemento_atual > 9:\n",
    "        lista_soma.insert(0,1)\n",
    "\n",
    "    sep = \"-\"*20\n",
    "    print(\"Primeira lista:\", str(lista1_global).rjust(25))\n",
    "    print(\"Segunda lista:\", str(lista2_global).rjust(26))\n",
    "    print(sep.rjust(41))\n",
    "    print(\"Somatória:\", str(lista_soma).rjust(30))\n",
    "    \n",
    "somaElementosLista([9,2,3],[8,2])"
   ]
  },
  {
   "cell_type": "code",
   "execution_count": null,
   "id": "19226324",
   "metadata": {},
   "outputs": [],
   "source": []
  }
 ],
 "metadata": {
  "kernelspec": {
   "display_name": "Python 3",
   "language": "python",
   "name": "python3"
  },
  "language_info": {
   "codemirror_mode": {
    "name": "ipython",
    "version": 3
   },
   "file_extension": ".py",
   "mimetype": "text/x-python",
   "name": "python",
   "nbconvert_exporter": "python",
   "pygments_lexer": "ipython3",
   "version": "3.10.4 (tags/v3.10.4:9d38120, Mar 23 2022, 23:13:41) [MSC v.1929 64 bit (AMD64)]"
  },
  "vscode": {
   "interpreter": {
    "hash": "b1be5a1e9e85905d3e4e97ef1b769f5caa870a8a58c9f9e0ae488b6f0a0e1baf"
   }
  }
 },
 "nbformat": 4,
 "nbformat_minor": 5
}
