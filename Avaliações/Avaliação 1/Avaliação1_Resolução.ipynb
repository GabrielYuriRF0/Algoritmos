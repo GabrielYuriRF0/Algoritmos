{
 "cells": [
  {
   "cell_type": "markdown",
   "metadata": {},
   "source": [
    "- Gabriel Yuri Ramalho Ferreira.\n",
    "- Edilson do Nascimento Costa Júnior."
   ]
  },
  {
   "cell_type": "markdown",
   "metadata": {},
   "source": [
    "Instruções: \n",
    "\n",
    "- Códigos que apresentarem erros de compilação ou execução não serão considerados\n",
    "\n",
    "- CUIDADO COM O PLÁGIO DOS CÓDIGOS\n",
    "\n",
    "- Verifiquem o correto uso dos tipos das variáveis (int, float..)\n",
    "\n",
    "- Cuidado com os nomes das variáveis, as mesmas devem ter nomes significativos\n",
    "\n",
    "- Fazer validação para os dados de entrada caso algum valor numérico informado seja negativo ou zero nas questões 1 e 2. Informe mensagens de valores inválidos. \n"
   ]
  },
  {
   "cell_type": "code",
   "execution_count": null,
   "metadata": {},
   "outputs": [],
   "source": [
    "# Questão 1 - Colocar aqui o código da questão\n",
    "\n",
    "peso_saco = float(input(\"Informe o peso do saco em KG: \"))\n",
    "while (peso_saco <= 0):\n",
    "    peso_saco = float(input(\"Valor inválido, digite o peso do saco em KG novamente: \"))\n",
    "peso_saco *= 1000  \n",
    "\n",
    "quantidade_gato1 = float(input(\"Quantas gramas de ração consome o primeiro gato? \"))\n",
    "while (quantidade_gato1 <= 0):\n",
    "    quantidade_gato1 = float(input(\"Valor inválido, digite a quantidade do primeiro gato novamente: \"))\n",
    "\n",
    "quantidade_gato2 = float(input(\"Quantas gramas de ração consome o segundo gato? \"))\n",
    "while (quantidade_gato2 <= 0):\n",
    "    quantidade_gato2 = float(input(\"Valor inválido, digite a quantidade do segundo gato novamente: \"))\n",
    "\n",
    "consumido = (quantidade_gato1 + quantidade_gato2) * 5\n",
    "resto = peso_saco - consumido\n",
    "\n",
    "print(\"\")\n",
    "if (resto > 0):\n",
    "    print(\"O que sobrou dos {}Kg de ração após 5 dias foi {}g\".format((peso_saco/1000),resto))\n",
    "    \n",
    "elif (resto == 0):\n",
    "    print(\"Não sobrou nada após os 5 dias de consumo!\")\n",
    "\n",
    "elif (consumido > peso_saco):\n",
    "    print(\"Falta {}g para alimentar igualmente ambos os gatos durante 5 dias!\".format(resto * -1))\n",
    "\n"
   ]
  },
  {
   "cell_type": "code",
   "execution_count": null,
   "metadata": {},
   "outputs": [],
   "source": [
    "# Questão 2 - Colocar aqui o código da questão\n",
    "\n",
    "taxa_unica = taxa_variavel = 0\n",
    "numero_conta = int(input('insira os seis primeiros digitos da conta: '))\n",
    "consumo = float(input('informe o consumo de água em metros cubicos: '))\n",
    "while consumo <= 0:\n",
    "    consumo = float(input('valor invalido, informe um consumo superior a 0: '))\n",
    "\n",
    "tipo_cliente = input('que tipo de cliente você é? digite R-residencial, C-comercial ou I-industrial: ')\n",
    "tipo_cliente = tipo_cliente.upper()\n",
    "while (tipo_cliente != \"R\") and (tipo_cliente != \"C\") and (tipo_cliente != \"I\"):\n",
    "    tipo_cliente = input('Digite uma opção válida, R-residencial, C-comercial ou I-industrial : ')\n",
    "\n",
    "\n",
    "if tipo_cliente == 'R':\n",
    "    taxa_unica = 50\n",
    "    taxa_variavel = 0.05\n",
    "\n",
    "elif tipo_cliente == 'C':\n",
    "    taxa_unica = 500\n",
    "    if consumo > 80:\n",
    "        taxa_variavel = 0.25\n",
    "        consumo -= 80\n",
    "\n",
    "elif tipo_cliente == 'I':\n",
    "    taxa_unica = 800\n",
    "    if consumo > 100:\n",
    "        taxa_variavel = 0.04\n",
    "        consumo -= 100\n",
    "\n",
    "print(\"\")\n",
    "valor_pagar = taxa_unica + (taxa_variavel * consumo)\n",
    "print(\"O Cliente de número {}, vai pagar um valor de R${:.2f}\".format(numero_conta,valor_pagar))"
   ]
  },
  {
   "cell_type": "code",
   "execution_count": null,
   "metadata": {},
   "outputs": [],
   "source": [
    "# Questão 3 - Colocar aqui o código da questão\n",
    "pontos_a_favor = pontos_contra = gols_a_favor = gols_contra = 0\n",
    "\n",
    "while (gols_a_favor >= 0) or (gols_contra >= 0):\n",
    "    gols_a_favor = int(input(\"Quantos gols fez o time da casa? \"))\n",
    "    gols_contra = int(input(\"Quantos gols fez o time adversário? \"))\n",
    "      \n",
    "    \n",
    "    if (gols_a_favor > gols_contra):\n",
    "        pontos_a_favor += 3\n",
    "        \n",
    "    if (gols_a_favor == gols_contra):\n",
    "        pontos_a_favor += 1\n",
    "        pontos_contra += 1\n",
    "    \n",
    "    if (gols_contra > gols_a_favor):\n",
    "        pontos_contra += 3\n",
    "        \n",
    "    \n",
    "print(\"\") \n",
    "if (pontos_a_favor > pontos_contra):\n",
    "    print(\"O time vencedor que foi o da casa, fez {} pontos\".format(pontos_a_favor))\n",
    "\n",
    "elif (pontos_contra > pontos_a_favor ):\n",
    "    print(\"O time vencedor que foi o adversário, fez {} pontos\".format(pontos_contra))\n"
   ]
  }
 ],
 "metadata": {
  "kernelspec": {
   "display_name": "Python 3",
   "language": "python",
   "name": "python3"
  },
  "language_info": {
   "codemirror_mode": {
    "name": "ipython",
    "version": 3
   },
   "file_extension": ".py",
   "mimetype": "text/x-python",
   "name": "python",
   "nbconvert_exporter": "python",
   "pygments_lexer": "ipython3",
   "version": "3.10.4 (tags/v3.10.4:9d38120, Mar 23 2022, 23:13:41) [MSC v.1929 64 bit (AMD64)]"
  },
  "vscode": {
   "interpreter": {
    "hash": "b1be5a1e9e85905d3e4e97ef1b769f5caa870a8a58c9f9e0ae488b6f0a0e1baf"
   }
  }
 },
 "nbformat": 4,
 "nbformat_minor": 4
}
