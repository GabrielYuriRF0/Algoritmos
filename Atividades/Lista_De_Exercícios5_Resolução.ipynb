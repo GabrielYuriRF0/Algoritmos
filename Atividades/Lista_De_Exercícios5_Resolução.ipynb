{
 "cells": [
  {
   "cell_type": "markdown",
   "id": "9622805f",
   "metadata": {},
   "source": [
    "1. Faça um Programa que leia 5 números inteiros, armazene-os em uma lista."
   ]
  },
  {
   "cell_type": "code",
   "execution_count": 1,
   "id": "2a15e8c2",
   "metadata": {},
   "outputs": [
    {
     "ename": "KeyboardInterrupt",
     "evalue": "Interrupted by user",
     "output_type": "error",
     "traceback": [
      "\u001b[1;31m---------------------------------------------------------------------------\u001b[0m",
      "\u001b[1;31mKeyboardInterrupt\u001b[0m                         Traceback (most recent call last)",
      "\u001b[1;32m<ipython-input-1-3e8e26a27f84>\u001b[0m in \u001b[0;36m<module>\u001b[1;34m\u001b[0m\n\u001b[0;32m      1\u001b[0m \u001b[0mlista\u001b[0m \u001b[1;33m=\u001b[0m \u001b[1;33m[\u001b[0m\u001b[1;33m]\u001b[0m\u001b[1;33m\u001b[0m\u001b[1;33m\u001b[0m\u001b[0m\n\u001b[0;32m      2\u001b[0m \u001b[1;32mfor\u001b[0m \u001b[0mi\u001b[0m \u001b[1;32min\u001b[0m \u001b[0mrange\u001b[0m\u001b[1;33m(\u001b[0m\u001b[1;36m5\u001b[0m\u001b[1;33m)\u001b[0m\u001b[1;33m:\u001b[0m\u001b[1;33m\u001b[0m\u001b[1;33m\u001b[0m\u001b[0m\n\u001b[1;32m----> 3\u001b[1;33m     \u001b[0mn\u001b[0m \u001b[1;33m=\u001b[0m \u001b[0mint\u001b[0m\u001b[1;33m(\u001b[0m\u001b[0minput\u001b[0m\u001b[1;33m(\u001b[0m\u001b[1;34m'digite um número inteiro: '\u001b[0m\u001b[1;33m)\u001b[0m\u001b[1;33m)\u001b[0m\u001b[1;33m\u001b[0m\u001b[1;33m\u001b[0m\u001b[0m\n\u001b[0m\u001b[0;32m      4\u001b[0m     \u001b[0mlista\u001b[0m\u001b[1;33m.\u001b[0m\u001b[0mappend\u001b[0m\u001b[1;33m(\u001b[0m\u001b[0mn\u001b[0m\u001b[1;33m)\u001b[0m\u001b[1;33m\u001b[0m\u001b[1;33m\u001b[0m\u001b[0m\n\u001b[0;32m      5\u001b[0m \u001b[1;33m\u001b[0m\u001b[0m\n",
      "\u001b[1;32m~\\anaconda3\\lib\\site-packages\\ipykernel\\kernelbase.py\u001b[0m in \u001b[0;36mraw_input\u001b[1;34m(self, prompt)\u001b[0m\n\u001b[0;32m    858\u001b[0m                 \u001b[1;34m\"raw_input was called, but this frontend does not support input requests.\"\u001b[0m\u001b[1;33m\u001b[0m\u001b[1;33m\u001b[0m\u001b[0m\n\u001b[0;32m    859\u001b[0m             )\n\u001b[1;32m--> 860\u001b[1;33m         return self._input_request(str(prompt),\n\u001b[0m\u001b[0;32m    861\u001b[0m             \u001b[0mself\u001b[0m\u001b[1;33m.\u001b[0m\u001b[0m_parent_ident\u001b[0m\u001b[1;33m,\u001b[0m\u001b[1;33m\u001b[0m\u001b[1;33m\u001b[0m\u001b[0m\n\u001b[0;32m    862\u001b[0m             \u001b[0mself\u001b[0m\u001b[1;33m.\u001b[0m\u001b[0m_parent_header\u001b[0m\u001b[1;33m,\u001b[0m\u001b[1;33m\u001b[0m\u001b[1;33m\u001b[0m\u001b[0m\n",
      "\u001b[1;32m~\\anaconda3\\lib\\site-packages\\ipykernel\\kernelbase.py\u001b[0m in \u001b[0;36m_input_request\u001b[1;34m(self, prompt, ident, parent, password)\u001b[0m\n\u001b[0;32m    902\u001b[0m             \u001b[1;32mexcept\u001b[0m \u001b[0mKeyboardInterrupt\u001b[0m\u001b[1;33m:\u001b[0m\u001b[1;33m\u001b[0m\u001b[1;33m\u001b[0m\u001b[0m\n\u001b[0;32m    903\u001b[0m                 \u001b[1;31m# re-raise KeyboardInterrupt, to truncate traceback\u001b[0m\u001b[1;33m\u001b[0m\u001b[1;33m\u001b[0m\u001b[1;33m\u001b[0m\u001b[0m\n\u001b[1;32m--> 904\u001b[1;33m                 \u001b[1;32mraise\u001b[0m \u001b[0mKeyboardInterrupt\u001b[0m\u001b[1;33m(\u001b[0m\u001b[1;34m\"Interrupted by user\"\u001b[0m\u001b[1;33m)\u001b[0m \u001b[1;32mfrom\u001b[0m \u001b[1;32mNone\u001b[0m\u001b[1;33m\u001b[0m\u001b[1;33m\u001b[0m\u001b[0m\n\u001b[0m\u001b[0;32m    905\u001b[0m             \u001b[1;32mexcept\u001b[0m \u001b[0mException\u001b[0m \u001b[1;32mas\u001b[0m \u001b[0me\u001b[0m\u001b[1;33m:\u001b[0m\u001b[1;33m\u001b[0m\u001b[1;33m\u001b[0m\u001b[0m\n\u001b[0;32m    906\u001b[0m                 \u001b[0mself\u001b[0m\u001b[1;33m.\u001b[0m\u001b[0mlog\u001b[0m\u001b[1;33m.\u001b[0m\u001b[0mwarning\u001b[0m\u001b[1;33m(\u001b[0m\u001b[1;34m\"Invalid Message:\"\u001b[0m\u001b[1;33m,\u001b[0m \u001b[0mexc_info\u001b[0m\u001b[1;33m=\u001b[0m\u001b[1;32mTrue\u001b[0m\u001b[1;33m)\u001b[0m\u001b[1;33m\u001b[0m\u001b[1;33m\u001b[0m\u001b[0m\n",
      "\u001b[1;31mKeyboardInterrupt\u001b[0m: Interrupted by user"
     ]
    }
   ],
   "source": [
    "lista = []\n",
    "for i in range(5):\n",
    "    n = int(input('digite um número inteiro: '))\n",
    "    lista.append(n)\n",
    "\n",
    "print(lista)"
   ]
  },
  {
   "cell_type": "markdown",
   "id": "68192e93",
   "metadata": {},
   "source": [
    "2. Faça um Programa que leia 10 números reais e mostre-os na ordem inversa."
   ]
  },
  {
   "cell_type": "code",
   "execution_count": 4,
   "id": "e0b6e73c",
   "metadata": {},
   "outputs": [
    {
     "name": "stdout",
     "output_type": "stream",
     "text": [
      "Digite um número real:1\n",
      "Digite um número real:2\n",
      "Digite um número real:3\n",
      "Digite um número real:4\n",
      "Digite um número real:5\n",
      "Digite um número real:6\n",
      "Digite um número real:7\n",
      "Digite um número real:8\n",
      "Digite um número real:9\n",
      "Digite um número real:10\n",
      "Os números da lista na ordem inversa são: 10.0\n",
      "Os números da lista na ordem inversa são: 9.0\n",
      "Os números da lista na ordem inversa são: 8.0\n",
      "Os números da lista na ordem inversa são: 7.0\n",
      "Os números da lista na ordem inversa são: 6.0\n",
      "Os números da lista na ordem inversa são: 5.0\n",
      "Os números da lista na ordem inversa são: 4.0\n",
      "Os números da lista na ordem inversa são: 3.0\n",
      "Os números da lista na ordem inversa são: 2.0\n",
      "Os números da lista na ordem inversa são: 1.0\n"
     ]
    }
   ],
   "source": [
    "# -1 a - 10 ou de 0 a 9\n",
    "lista = []\n",
    "cont = 0\n",
    "i = -1\n",
    "\n",
    "while cont < 10:\n",
    "    n = float(input(\"Digite um número real:\"))\n",
    "    lista.append(n)\n",
    "    cont +=1\n",
    "print(\"\")    \n",
    "for i in range (-1,-11,-1):\n",
    "    print(\"Os números da lista na ordem inversa são:\",lista[i])\n",
    "    \n"
   ]
  },
  {
   "cell_type": "markdown",
   "id": "83d60c8b",
   "metadata": {},
   "source": [
    "3. Faça um Programa que leia 40 notas, mostre as notas e a média na tela.\n"
   ]
  },
  {
   "cell_type": "code",
   "execution_count": 4,
   "id": "3325f9d9",
   "metadata": {},
   "outputs": [
    {
     "name": "stdout",
     "output_type": "stream",
     "text": [
      "Digite uma nota: 10\n",
      "Digite uma nota: 10\n",
      "Digite uma nota: 10\n",
      "Digite uma nota: 10\n",
      "Digite uma nota: 10\n",
      "Digite uma nota: 10\n",
      "Digite uma nota: 10\n",
      "Digite uma nota: 10\n",
      "Digite uma nota: 10\n",
      "Digite uma nota: 10\n",
      "Digite uma nota: 10\n",
      "Digite uma nota: 10\n",
      "Digite uma nota: 10\n",
      "Digite uma nota: 10\n",
      "Digite uma nota: 10\n",
      "Digite uma nota: 10\n",
      "Digite uma nota: 10\n",
      "Digite uma nota: 10\n",
      "Digite uma nota: 10\n",
      "Digite uma nota: 10\n",
      "Digite uma nota: 10\n",
      "Digite uma nota: 10\n",
      "Digite uma nota: 10\n",
      "Digite uma nota: 10\n",
      "Digite uma nota: 10\n",
      "Digite uma nota: 10\n",
      "Digite uma nota: 10\n"
     ]
    },
    {
     "ename": "KeyboardInterrupt",
     "evalue": "Interrupted by user",
     "output_type": "error",
     "traceback": [
      "\u001b[1;31m---------------------------------------------------------------------------\u001b[0m",
      "\u001b[1;31mKeyboardInterrupt\u001b[0m                         Traceback (most recent call last)",
      "\u001b[1;32m<ipython-input-4-1ff504fd40de>\u001b[0m in \u001b[0;36m<module>\u001b[1;34m\u001b[0m\n\u001b[0;32m      3\u001b[0m \u001b[0msoma\u001b[0m \u001b[1;33m=\u001b[0m \u001b[1;36m0\u001b[0m\u001b[1;33m\u001b[0m\u001b[1;33m\u001b[0m\u001b[0m\n\u001b[0;32m      4\u001b[0m \u001b[1;32mfor\u001b[0m \u001b[0mi\u001b[0m \u001b[1;32min\u001b[0m \u001b[0mrange\u001b[0m\u001b[1;33m(\u001b[0m\u001b[1;36m40\u001b[0m\u001b[1;33m)\u001b[0m\u001b[1;33m:\u001b[0m\u001b[1;33m\u001b[0m\u001b[1;33m\u001b[0m\u001b[0m\n\u001b[1;32m----> 5\u001b[1;33m     \u001b[0mnotas\u001b[0m \u001b[1;33m=\u001b[0m \u001b[0mfloat\u001b[0m\u001b[1;33m(\u001b[0m\u001b[0minput\u001b[0m\u001b[1;33m(\u001b[0m\u001b[1;34m\"Digite uma nota: \"\u001b[0m\u001b[1;33m)\u001b[0m\u001b[1;33m)\u001b[0m\u001b[1;33m\u001b[0m\u001b[1;33m\u001b[0m\u001b[0m\n\u001b[0m\u001b[0;32m      6\u001b[0m     \u001b[0mlista_notas\u001b[0m\u001b[1;33m.\u001b[0m\u001b[0mappend\u001b[0m\u001b[1;33m(\u001b[0m\u001b[0mnotas\u001b[0m\u001b[1;33m)\u001b[0m\u001b[1;33m\u001b[0m\u001b[1;33m\u001b[0m\u001b[0m\n\u001b[0;32m      7\u001b[0m \u001b[1;33m\u001b[0m\u001b[0m\n",
      "\u001b[1;32m~\\anaconda3\\lib\\site-packages\\ipykernel\\kernelbase.py\u001b[0m in \u001b[0;36mraw_input\u001b[1;34m(self, prompt)\u001b[0m\n\u001b[0;32m    858\u001b[0m                 \u001b[1;34m\"raw_input was called, but this frontend does not support input requests.\"\u001b[0m\u001b[1;33m\u001b[0m\u001b[1;33m\u001b[0m\u001b[0m\n\u001b[0;32m    859\u001b[0m             )\n\u001b[1;32m--> 860\u001b[1;33m         return self._input_request(str(prompt),\n\u001b[0m\u001b[0;32m    861\u001b[0m             \u001b[0mself\u001b[0m\u001b[1;33m.\u001b[0m\u001b[0m_parent_ident\u001b[0m\u001b[1;33m,\u001b[0m\u001b[1;33m\u001b[0m\u001b[1;33m\u001b[0m\u001b[0m\n\u001b[0;32m    862\u001b[0m             \u001b[0mself\u001b[0m\u001b[1;33m.\u001b[0m\u001b[0m_parent_header\u001b[0m\u001b[1;33m,\u001b[0m\u001b[1;33m\u001b[0m\u001b[1;33m\u001b[0m\u001b[0m\n",
      "\u001b[1;32m~\\anaconda3\\lib\\site-packages\\ipykernel\\kernelbase.py\u001b[0m in \u001b[0;36m_input_request\u001b[1;34m(self, prompt, ident, parent, password)\u001b[0m\n\u001b[0;32m    902\u001b[0m             \u001b[1;32mexcept\u001b[0m \u001b[0mKeyboardInterrupt\u001b[0m\u001b[1;33m:\u001b[0m\u001b[1;33m\u001b[0m\u001b[1;33m\u001b[0m\u001b[0m\n\u001b[0;32m    903\u001b[0m                 \u001b[1;31m# re-raise KeyboardInterrupt, to truncate traceback\u001b[0m\u001b[1;33m\u001b[0m\u001b[1;33m\u001b[0m\u001b[1;33m\u001b[0m\u001b[0m\n\u001b[1;32m--> 904\u001b[1;33m                 \u001b[1;32mraise\u001b[0m \u001b[0mKeyboardInterrupt\u001b[0m\u001b[1;33m(\u001b[0m\u001b[1;34m\"Interrupted by user\"\u001b[0m\u001b[1;33m)\u001b[0m \u001b[1;32mfrom\u001b[0m \u001b[1;32mNone\u001b[0m\u001b[1;33m\u001b[0m\u001b[1;33m\u001b[0m\u001b[0m\n\u001b[0m\u001b[0;32m    905\u001b[0m             \u001b[1;32mexcept\u001b[0m \u001b[0mException\u001b[0m \u001b[1;32mas\u001b[0m \u001b[0me\u001b[0m\u001b[1;33m:\u001b[0m\u001b[1;33m\u001b[0m\u001b[1;33m\u001b[0m\u001b[0m\n\u001b[0;32m    906\u001b[0m                 \u001b[0mself\u001b[0m\u001b[1;33m.\u001b[0m\u001b[0mlog\u001b[0m\u001b[1;33m.\u001b[0m\u001b[0mwarning\u001b[0m\u001b[1;33m(\u001b[0m\u001b[1;34m\"Invalid Message:\"\u001b[0m\u001b[1;33m,\u001b[0m \u001b[0mexc_info\u001b[0m\u001b[1;33m=\u001b[0m\u001b[1;32mTrue\u001b[0m\u001b[1;33m)\u001b[0m\u001b[1;33m\u001b[0m\u001b[1;33m\u001b[0m\u001b[0m\n",
      "\u001b[1;31mKeyboardInterrupt\u001b[0m: Interrupted by user"
     ]
    }
   ],
   "source": [
    "import numpy\n",
    "lista_notas = []\n",
    "soma = 0\n",
    "for i in range(40):\n",
    "    notas = float(input(\"Digite uma nota: \"))\n",
    "    lista_notas.append(notas)\n",
    "    \n",
    "media = numpy.sum(lista_notas) / 40\n",
    "print('As notas foram {} e a media das notas vale {}'.format(lista_notas,media))\n",
    "    "
   ]
  },
  {
   "cell_type": "markdown",
   "id": "f2446db5",
   "metadata": {},
   "source": [
    "4. Faça um Programa que leia 20 números inteiros e armazene-os numa lista.\n",
    "Armazene os números pares na lista PAR e os números IMPARES na lista\n",
    "impar. Imprima as três listas.\n"
   ]
  },
  {
   "cell_type": "code",
   "execution_count": 13,
   "id": "23108e9b",
   "metadata": {},
   "outputs": [
    {
     "name": "stdout",
     "output_type": "stream",
     "text": [
      "Digite um número inteiro: 1\n",
      "Digite um número inteiro: 2\n",
      "Digite um número inteiro: 3\n",
      "Digite um número inteiro: 4\n",
      "Digite um número inteiro: 5\n",
      "Digite um número inteiro: 6\n",
      "Digite um número inteiro: 7\n",
      "Digite um número inteiro: 8\n",
      "Digite um número inteiro: 9\n",
      "Digite um número inteiro: 10\n",
      "\n",
      "Todos os números foram [1, 2, 3, 4, 5, 6, 7, 8, 9, 10], os pares foram [2, 4, 6, 8, 10] e os impares [1, 3, 5, 7, 9]\n"
     ]
    }
   ],
   "source": [
    "lista_par = []\n",
    "lista_impar = []\n",
    "lista_geral = []\n",
    "for i in range (10):\n",
    "    n = int(input('Digite um número inteiro: '))\n",
    "    lista_geral.append(n)\n",
    "    if (n % 2 == 0):\n",
    "        lista_par.append(n)\n",
    "    else:\n",
    "        lista_impar.append(n)\n",
    "print(\"\")       \n",
    "print(\"Todos os números foram {}, os pares foram {} e os impares {}\".format(lista_geral,lista_par,lista_impar))"
   ]
  },
  {
   "cell_type": "markdown",
   "id": "6c54ee47",
   "metadata": {},
   "source": [
    "5. Faça um Programa que peça as quatro notas de 10 alunos, calcule e armazene\n",
    "numa lista a média de cada aluno, imprima o número de alunos com média\n",
    "maior ou igual a 7.0.\n"
   ]
  },
  {
   "cell_type": "code",
   "execution_count": 7,
   "id": "1413e2a3",
   "metadata": {},
   "outputs": [
    {
     "name": "stdout",
     "output_type": "stream",
     "text": [
      "Digite a primeira nota: 10\n",
      "Digite a segunda nota: 10\n",
      "Digite a terceira nota: 10\n",
      "Digite a quarta nota: 10\n",
      "\n",
      "Digite a primeira nota: 10\n",
      "Digite a segunda nota: 2\n",
      "Digite a terceira nota: 3\n",
      "Digite a quarta nota: 5\n",
      "\n",
      "1 Alunos obteram média maior ou igual a 7!\n"
     ]
    }
   ],
   "source": [
    "medias = []\n",
    "media_aluno = notas_altas = 0\n",
    "\n",
    "for i in range(2):\n",
    "    n1 = float(input(\"Digite a primeira nota: \"))\n",
    "    n2 = float(input(\"Digite a segunda nota: \"))\n",
    "    n3 = float(input(\"Digite a terceira nota: \"))\n",
    "    n4 = float(input(\"Digite a quarta nota: \"))\n",
    "    media_aluno = (n1 + n2 + n3 + n4) / 4\n",
    "    \n",
    "    if media_aluno >= 7:\n",
    "        notas_altas += 1\n",
    "    \n",
    "    medias.append(media_aluno)\n",
    "    print(\"\")\n",
    "\n",
    "print(\"{} Alunos obteram média maior ou igual a 7!\".format(notas_altas))\n",
    "    "
   ]
  },
  {
   "cell_type": "markdown",
   "id": "c5ac50f7",
   "metadata": {},
   "source": [
    "6.Faça um Programa que leia e armazene 50 números inteiros, mostre a soma, a\n",
    "multiplicação e os números.\n"
   ]
  },
  {
   "cell_type": "code",
   "execution_count": 12,
   "id": "07dd6ffb",
   "metadata": {},
   "outputs": [
    {
     "name": "stdout",
     "output_type": "stream",
     "text": [
      "Digite um número inteiro: 2\n",
      "Digite um número inteiro: 2\n",
      "Digite um número inteiro: 2\n",
      "Digite um número inteiro: 2\n",
      "Digite um número inteiro: 2\n",
      "2\n",
      "2\n",
      "2\n",
      "2\n",
      "2\n",
      "A soma e a multiplicação de todos os números, valem respectivamente 10 e 32\n"
     ]
    }
   ],
   "source": [
    "\n",
    "numeros = []\n",
    "soma = 0\n",
    "multiplicacao = 1\n",
    "\n",
    "for i in range (50):\n",
    "    n = int(input(\"Digite um número inteiro: \"))\n",
    "    numeros.append(n)\n",
    "\n",
    "for i in numeros:\n",
    "    multiplicacao *= i\n",
    "for i in numeros:\n",
    "    soma += i\n",
    "    \n",
    "print(\"\")\n",
    "print(\"A soma e a multiplicação de todos os números, valem respectivamente {} e {}\".format(soma,multiplicacao))"
   ]
  },
  {
   "cell_type": "markdown",
   "id": "146bfb2c",
   "metadata": {},
   "source": [
    "7. Faça um Programa que peça a idade e a altura de 10 pessoas, armazene cada\n",
    "informação na sua respectiva lista. Imprima a idade da pessoa que possui\n",
    "maior altura."
   ]
  },
  {
   "cell_type": "code",
   "execution_count": null,
   "id": "d78c35c9",
   "metadata": {},
   "outputs": [],
   "source": [
    "idade_total = []\n",
    "altura_total = []\n",
    "maior_altura = idade_maior_altura = 0\n",
    "\n",
    "for i in range(5):\n",
    "    idade = int(input(\"Digite a sua idade: \"))\n",
    "    altura = float(input(\"Digite a sua altura em metros: \"))\n",
    "    if altura > maior_altura:\n",
    "        maior_altura = altura\n",
    "        idade_maior_altura = idade\n",
    "    idade_total.append(idade)\n",
    "    altura_total.append(altura)\n",
    "\n",
    "print(\"A pessoa mais alta {} metros e {} anos\".format(maior_altura,idade_maior_altura))\n",
    "\n"
   ]
  },
  {
   "cell_type": "markdown",
   "id": "cba948e3",
   "metadata": {},
   "source": [
    "8. Faça um Programa que leia uma lista A com 10 números inteiros, calcule e\n",
    "mostre a soma dos quadrados dos elementos do vetor.\n"
   ]
  },
  {
   "cell_type": "code",
   "execution_count": 27,
   "id": "81080e10",
   "metadata": {},
   "outputs": [
    {
     "name": "stdout",
     "output_type": "stream",
     "text": [
      "Digite um número inteiro: 2\n",
      "Digite um número inteiro: 3\n",
      "A soma dos quadrados de todos os elementos da lista vale:13\n"
     ]
    }
   ],
   "source": [
    "a = []\n",
    "for i in range(2):\n",
    "    n = int(input(\"Digite um número inteiro: \"))\n",
    "    n = n ** 2\n",
    "    a.append(n)\n",
    "\n",
    "soma = sum(a)\n",
    "print(\"A soma dos quadrados de todos os elementos da lista vale:{}\".format(soma))"
   ]
  },
  {
   "cell_type": "markdown",
   "id": "f7151b9c",
   "metadata": {},
   "source": [
    "9. Faça um Programa que leia duas listas com 10 elementos cada. Gere uma\n",
    "terceira lista de 20 elementos, cujos valores deverão ser compostos pelos\n",
    "elementos intercalados das duas outras listas."
   ]
  },
  {
   "cell_type": "code",
   "execution_count": 2,
   "id": "179854be",
   "metadata": {},
   "outputs": [
    {
     "name": "stdout",
     "output_type": "stream",
     "text": [
      "Digite um número: 1\n",
      "Digite outro número: 2\n",
      "Digite um número: 3\n",
      "Digite outro número: 4\n",
      "Digite um número: 5\n",
      "Digite outro número: 6\n",
      "Digite um número: 7\n",
      "Digite outro número: 8\n",
      "0\n",
      "1\n",
      "2\n",
      "3\n",
      "[1, 3, 5, 7]\n",
      "[2, 4, 6, 8]\n",
      "[1, 2, 3, 4, 5, 6, 7, 8]\n"
     ]
    }
   ],
   "source": [
    "lista1 = []\n",
    "lista2 = []\n",
    "lista3 = []\n",
    "for i in range(10):\n",
    "    n1 = int(input(\"Digite um número: \"))\n",
    "    n2 = int(input(\"Digite outro número: \"))\n",
    "    lista1.append(n1)\n",
    "    lista2.append(n2)\n",
    "    \n",
    "for i in range(10):\n",
    "    print(i)\n",
    "    lista3.append(lista1[i])\n",
    "    lista3.append(lista2[i])\n",
    "    \n",
    "print(\"A terceira lista é {}\".format(lista3))"
   ]
  },
  {
   "cell_type": "markdown",
   "id": "ca2a71f4",
   "metadata": {},
   "source": [
    "10. Altere o programa anterior, intercalando 3 listas de 10 elementos cada.\n"
   ]
  },
  {
   "cell_type": "code",
   "execution_count": 4,
   "id": "904a413b",
   "metadata": {},
   "outputs": [
    {
     "name": "stdout",
     "output_type": "stream",
     "text": [
      "Digite o primeiro número: 1\n",
      "Digite o segundo número: 2\n",
      "Digite o terceiro número: 3\n",
      "Digite o primeiro número: 4\n",
      "Digite o segundo número: 5\n",
      "Digite o terceiro número: 6\n",
      "Digite o primeiro número: 7\n",
      "Digite o segundo número: 8\n",
      "Digite o terceiro número: 9\n",
      "Digite o primeiro número: 1\n",
      "Digite o segundo número: 1\n",
      "Digite o terceiro número: 1\n",
      "0\n",
      "1\n",
      "2\n",
      "3\n",
      "A terceira lista é [1, 2, 3, 4, 5, 6, 7, 8, 9, 1, 1, 1]\n"
     ]
    }
   ],
   "source": [
    "lista1 = []\n",
    "lista2 = []\n",
    "lista3 = []\n",
    "lista4 = []\n",
    "cont = 0\n",
    "for i in range(4):\n",
    "    n1 = int(input(\"Digite o primeiro número: \"))\n",
    "    n2 = int(input(\"Digite o segundo número: \"))\n",
    "    n3 = int(input(\"Digite o terceiro número: \"))\n",
    "    lista1.append(n1)\n",
    "    lista2.append(n2)\n",
    "    lista3.append(n3)\n",
    "    \n",
    "for i in range(4):\n",
    "    print(i)\n",
    "    lista4.append(lista1[i])\n",
    "    lista4.append(lista2[i])\n",
    "    lista4.append(lista3[i])\n",
    "    cont += 1\n",
    "    \n",
    "print(\"A terceira lista é {}\".format(lista4))"
   ]
  },
  {
   "cell_type": "markdown",
   "id": "ddd57f65",
   "metadata": {},
   "source": [
    "11. Foram anotadas as idades e alturas de 30 alunos. Faça um Programa que\n",
    "determine quantos alunos com mais de 13 anos possuem altura inferior à\n",
    "média de altura desses alunos."
   ]
  },
  {
   "cell_type": "code",
   "execution_count": 11,
   "id": "f80a6b19",
   "metadata": {},
   "outputs": [
    {
     "name": "stdout",
     "output_type": "stream",
     "text": [
      "Digite uma idade: 14\n",
      "Digite uma altura: 2\n",
      "Digite uma idade: 16\n",
      "Digite uma altura: 1.5\n",
      "Digite uma idade: 11\n",
      "Digite uma altura: 2.5\n",
      "A quantidade de pessoas com a altura menor do que a média geral é: 1\n"
     ]
    }
   ],
   "source": [
    "\n",
    "idade_maior13 = []\n",
    "altura_maior13 = []\n",
    "soma_alturas = quant_maior13 = 0\n",
    "\n",
    "\n",
    "for i in range(30):\n",
    "    idade = int(input(\"Digite uma idade: \"))\n",
    "    altura = float(input(\"Digite uma altura: \"))\n",
    "    if idade > 13:\n",
    "        altura_maior13.append(altura)\n",
    "        \n",
    "    soma_alturas += altura\n",
    "    \n",
    "media = soma_alturas / 30\n",
    "\n",
    "for cont in range(len(altura_maior13)):\n",
    "    if (altura_maior13[cont] < media):\n",
    "        quant_maior13 += 1\n",
    "    \n",
    "\n",
    "print(\"A quantidade de pessoas com a altura menor do que a média geral é: {}\".format(quant_maior13))"
   ]
  },
  {
   "cell_type": "markdown",
   "id": "87d7a6dc",
   "metadata": {},
   "source": [
    "12. Escreva um algoritmo que permita a leitura dos nomes de 10 pessoas e\n",
    "armazene os nomes lidos em uma lista. Após isto, o algoritmo deve permitir a\n",
    "leitura de mais 1 nome qualquer de pessoa e depois escrever a mensagem\n",
    "ACHEI, se o nome estiver entre os 10 nomes lidos anteriormente (guardados\n",
    "na lista), ou NÃO ACHEI caso contrário.\n"
   ]
  },
  {
   "cell_type": "code",
   "execution_count": 18,
   "id": "fccf8d58",
   "metadata": {},
   "outputs": [
    {
     "name": "stdout",
     "output_type": "stream",
     "text": [
      "Digite um nome: Gabriel\n",
      "Digite um nome: Yuri\n",
      "Digite um nome: Xerox\n",
      "Digite outro nome para fazer a busca: juliana\n",
      "Não achei!\n"
     ]
    }
   ],
   "source": [
    "lista_nomes = []\n",
    "\n",
    "for i in range(3):\n",
    "    nome = input(\"Digite um nome: \").upper()\n",
    "    lista_nomes.append(nome)\n",
    "    \n",
    "nome2 = input(\"Digite outro nome para fazer a busca: \").upper()\n",
    "\n",
    "if nome2 in lista_nomes:\n",
    "    print(\"Achei!\")\n",
    "\n",
    "else:\n",
    "    print(\"Não achei!\")\n",
    "\n",
    "\n"
   ]
  },
  {
   "cell_type": "raw",
   "id": "cfe065f9",
   "metadata": {},
   "source": [
    "13. Faça um programa que receba a temperatura média de cada mês do ano e\n",
    "armazene-as em uma lista. Após isto, calcule a média anual das temperaturas\n",
    "e mostre todas as temperaturas acima da média anual, e em que mês elas\n",
    "ocorreram (mostrar o mês por extenso: 1 – Janeiro, 2 – Fevereiro, . . . )."
   ]
  },
  {
   "cell_type": "code",
   "execution_count": 41,
   "id": "b278f6b8",
   "metadata": {},
   "outputs": [
    {
     "name": "stdout",
     "output_type": "stream",
     "text": [
      "Digite a temperatura do mês 1:50\n",
      "Digite a temperatura do mês 2:25\n",
      "Digite a temperatura do mês 3:10\n",
      "Umas das maiores temperaturas registradas foi 50.0 Celsius no mês Janeiro\n"
     ]
    }
   ],
   "source": [
    "temperaturas_meses = []\n",
    "temperaturas_altas = []\n",
    "meses = ['Janeiro', 'Fevereiro', 'Março', 'Abril', 'Maio', \n",
    "         'Junho', 'Julho', 'Agosto','Setembro','Outubro', 'Novembro', 'Dezembro']\n",
    "soma = 0\n",
    "\n",
    "for i in range(3):\n",
    "    temperatura = float(input(\"Digite a temperatura do mês {}:\".format(i+1)))\n",
    "    temperaturas_meses.append(temperatura)\n",
    "    soma += temperatura\n",
    "\n",
    "media = soma / 3\n",
    "\n",
    "for cont in range(3):\n",
    "    if (temperaturas_meses[cont] > media):\n",
    "        print(\"Umas das maiores temperaturas registradas foi {} Celsius no mês {}\".format(temperaturas_meses[cont], meses[cont]))"
   ]
  },
  {
   "cell_type": "markdown",
   "id": "1739e1b8",
   "metadata": {},
   "source": [
    "14. Faça um programa que leia um número indeterminado de valores,\n",
    "correspondentes a notas, encerrando a entrada de dados quando for informado\n",
    "um valor igual a -1 (que não deve ser armazenado). Após esta entrada de\n",
    "dados, faça:\n",
    "a. Mostre a quantidade de valores que foram lidos;\n",
    "b. Exiba todos os valores na ordem em que foram informados\n",
    "c. Exiba todos os valores na ordem inversa à que foram informados\n",
    "d. Calcule e mostre a soma dos valores;\n",
    "e. Calcule e mostre a média dos valores;\n",
    "f. Calcule e mostre a quantidade de valores acima da média calculada;\n",
    "g. Calcule e mostre a quantidade de valores abaixo de sete;\n",
    "h. Encerre o programa com uma mensagem."
   ]
  },
  {
   "cell_type": "code",
   "execution_count": 6,
   "id": "b106ed12",
   "metadata": {},
   "outputs": [
    {
     "name": "stdout",
     "output_type": "stream",
     "text": [
      "Insira uma nota: 1\n",
      "Insira uma nota: 2\n",
      "Insira uma nota: 7\n",
      "Insira uma nota: -1\n",
      "A = 3\n",
      "B = [1.0, 2.0, 7.0]\n",
      "C = [7.0, 2.0, 1.0]\n",
      "D = 10.0\n",
      "E = 3.3333333333333335 \n",
      "F = 1\n",
      " G = 2\n",
      "FIM!\n"
     ]
    }
   ],
   "source": [
    "lista_valor = []\n",
    "quantidade_acima_media = quantidade_menor7 = 0\n",
    " \n",
    "while True:\n",
    "    valor = float(input(\"Insira uma nota: \"))\n",
    "    if (valor == -1):\n",
    "        break\n",
    "    lista_valor.append(valor)\n",
    "\n",
    "print(\"A = {}\".format(len(lista_valor)))\n",
    "print(\"B = {}\".format(lista_valor))\n",
    "lista_valor.reverse()\n",
    "media = sum(lista_valor) / len(lista_valor)\n",
    "print(\"C = {}\\nD = {}\\nE = {} \".format(lista_valor,sum(lista_valor),media))\n",
    "\n",
    "for cont in range(len(lista_valor)):\n",
    "    if (lista_valor[cont] > media):\n",
    "        quantidade_acima_media += 1\n",
    "    if (lista_valor [cont] < 7):\n",
    "        quantidade_menor7 += 1\n",
    "        \n",
    "print(\"F = {}\\nG = {}\".format(quantidade_acima_media,quantidade_menor7))\n",
    "print(\"FIM!\")\n",
    "\n",
    "    "
   ]
  },
  {
   "cell_type": "markdown",
   "id": "d93cd95a",
   "metadata": {},
   "source": [
    "15. Uma empresa de pesquisas precisa tabular os resultados da seguinte enquete\n",
    "feita a uma grande quantidade de organizações:\n",
    "\"Qual o melhor Sistema Operacional para uso em servidores?\"\n",
    "As possíveis respostas são:\n",
    "1- Windows Server\n",
    "2- Unix\n",
    "3- Linux\n",
    "4- Netware\n",
    "5- Mac OS\n",
    "6- Outro\n",
    "\n",
    "Você foi contratado para desenvolver um programa que leia o resultado da enquete\n",
    "e informe ao final o resultado da mesma. O programa deverá ler os valores até ser\n",
    "informado o valor 0, que encerra a entrada dos dados. Não deverão ser aceitos\n",
    "valores além dos válidos para o programa (0 a 6). Os valores referentes a cada\n",
    "uma das opções devem ser armazenados numa lista. Após os dados terem sido\n",
    "completamente informados, o programa deverá calcular o percentual de cada um\n",
    "dos concorrentes e informar o vencedor da enquete. O formato da saída foi dado\n",
    "pela empresa, e é o seguinte:\n",
    "Sistema Operacional Votos %\n",
    "------------------- ----- ---\n",
    "Windows Server 1500 17%\n",
    "Unix 3500 40%\n",
    "Linux 3000 34%\n",
    "Netware 500 5%\n",
    "Mac OS 150 2%\n",
    "Outro 150 2%\n",
    "------------------- -----\n",
    "Total 8800\n",
    "O Sistema Operacional mais votado foi o Unix, com 3500 votos,\n",
    "correspondendo a 40% dos votos"
   ]
  },
  {
   "cell_type": "code",
   "execution_count": 67,
   "id": "2a340a44",
   "metadata": {},
   "outputs": [
    {
     "ename": "KeyboardInterrupt",
     "evalue": "Interrupted by user",
     "output_type": "error",
     "traceback": [
      "\u001b[1;31m---------------------------------------------------------------------------\u001b[0m",
      "\u001b[1;31mKeyboardInterrupt\u001b[0m                         Traceback (most recent call last)",
      "\u001b[1;32m<ipython-input-67-bef9998adbfd>\u001b[0m in \u001b[0;36m<module>\u001b[1;34m\u001b[0m\n\u001b[0;32m      4\u001b[0m \u001b[1;33m\u001b[0m\u001b[0m\n\u001b[0;32m      5\u001b[0m \u001b[1;32mwhile\u001b[0m \u001b[1;32mTrue\u001b[0m\u001b[1;33m:\u001b[0m\u001b[1;33m\u001b[0m\u001b[1;33m\u001b[0m\u001b[0m\n\u001b[1;32m----> 6\u001b[1;33m     \u001b[0mescolha\u001b[0m \u001b[1;33m=\u001b[0m \u001b[0mint\u001b[0m\u001b[1;33m(\u001b[0m\u001b[0minput\u001b[0m\u001b[1;33m(\u001b[0m\u001b[1;34m\"Escolha um sistema operacional|1 - Windows|2 - Unix|3 - Linux|4 - Netware|5 - Mac os|6 - Outro \"\u001b[0m\u001b[1;33m)\u001b[0m\u001b[1;33m)\u001b[0m\u001b[1;33m\u001b[0m\u001b[1;33m\u001b[0m\u001b[0m\n\u001b[0m\u001b[0;32m      7\u001b[0m     \u001b[1;32mif\u001b[0m \u001b[0mescolha\u001b[0m \u001b[1;33m==\u001b[0m \u001b[1;36m0\u001b[0m\u001b[1;33m:\u001b[0m\u001b[1;33m\u001b[0m\u001b[1;33m\u001b[0m\u001b[0m\n\u001b[0;32m      8\u001b[0m         \u001b[1;32mbreak\u001b[0m\u001b[1;33m\u001b[0m\u001b[1;33m\u001b[0m\u001b[0m\n",
      "\u001b[1;32m~\\anaconda3\\lib\\site-packages\\ipykernel\\kernelbase.py\u001b[0m in \u001b[0;36mraw_input\u001b[1;34m(self, prompt)\u001b[0m\n\u001b[0;32m    858\u001b[0m                 \u001b[1;34m\"raw_input was called, but this frontend does not support input requests.\"\u001b[0m\u001b[1;33m\u001b[0m\u001b[1;33m\u001b[0m\u001b[0m\n\u001b[0;32m    859\u001b[0m             )\n\u001b[1;32m--> 860\u001b[1;33m         return self._input_request(str(prompt),\n\u001b[0m\u001b[0;32m    861\u001b[0m             \u001b[0mself\u001b[0m\u001b[1;33m.\u001b[0m\u001b[0m_parent_ident\u001b[0m\u001b[1;33m,\u001b[0m\u001b[1;33m\u001b[0m\u001b[1;33m\u001b[0m\u001b[0m\n\u001b[0;32m    862\u001b[0m             \u001b[0mself\u001b[0m\u001b[1;33m.\u001b[0m\u001b[0m_parent_header\u001b[0m\u001b[1;33m,\u001b[0m\u001b[1;33m\u001b[0m\u001b[1;33m\u001b[0m\u001b[0m\n",
      "\u001b[1;32m~\\anaconda3\\lib\\site-packages\\ipykernel\\kernelbase.py\u001b[0m in \u001b[0;36m_input_request\u001b[1;34m(self, prompt, ident, parent, password)\u001b[0m\n\u001b[0;32m    902\u001b[0m             \u001b[1;32mexcept\u001b[0m \u001b[0mKeyboardInterrupt\u001b[0m\u001b[1;33m:\u001b[0m\u001b[1;33m\u001b[0m\u001b[1;33m\u001b[0m\u001b[0m\n\u001b[0;32m    903\u001b[0m                 \u001b[1;31m# re-raise KeyboardInterrupt, to truncate traceback\u001b[0m\u001b[1;33m\u001b[0m\u001b[1;33m\u001b[0m\u001b[1;33m\u001b[0m\u001b[0m\n\u001b[1;32m--> 904\u001b[1;33m                 \u001b[1;32mraise\u001b[0m \u001b[0mKeyboardInterrupt\u001b[0m\u001b[1;33m(\u001b[0m\u001b[1;34m\"Interrupted by user\"\u001b[0m\u001b[1;33m)\u001b[0m \u001b[1;32mfrom\u001b[0m \u001b[1;32mNone\u001b[0m\u001b[1;33m\u001b[0m\u001b[1;33m\u001b[0m\u001b[0m\n\u001b[0m\u001b[0;32m    905\u001b[0m             \u001b[1;32mexcept\u001b[0m \u001b[0mException\u001b[0m \u001b[1;32mas\u001b[0m \u001b[0me\u001b[0m\u001b[1;33m:\u001b[0m\u001b[1;33m\u001b[0m\u001b[1;33m\u001b[0m\u001b[0m\n\u001b[0;32m    906\u001b[0m                 \u001b[0mself\u001b[0m\u001b[1;33m.\u001b[0m\u001b[0mlog\u001b[0m\u001b[1;33m.\u001b[0m\u001b[0mwarning\u001b[0m\u001b[1;33m(\u001b[0m\u001b[1;34m\"Invalid Message:\"\u001b[0m\u001b[1;33m,\u001b[0m \u001b[0mexc_info\u001b[0m\u001b[1;33m=\u001b[0m\u001b[1;32mTrue\u001b[0m\u001b[1;33m)\u001b[0m\u001b[1;33m\u001b[0m\u001b[1;33m\u001b[0m\u001b[0m\n",
      "\u001b[1;31mKeyboardInterrupt\u001b[0m: Interrupted by user"
     ]
    }
   ],
   "source": [
    "sistemas = []\n",
    "windows = unix = linux = netware = mac = outros = 0\n",
    "escolha = 1\n",
    "\n",
    "while True:\n",
    "    escolha = int(input(\"Escolha um sistema operacional|1 - Windows|2 - Unix|3 - Linux|4 - Netware|5 - Mac os|6 - Outro \"))\n",
    "    if escolha == 0:\n",
    "        break\n",
    "    sistemas.append(escolha)\n",
    "    \n",
    "for i in range(len(sistemas)):\n",
    "    if sistemas[i] == 1:\n",
    "        windows += 1\n",
    "    \n",
    "    elif sistemas [i] == 2:\n",
    "        unix += 1\n",
    "    \n",
    "    elif sistemas [i] == 3:\n",
    "        linux += 1\n",
    "    \n",
    "    elif sistemas [i] == 4:\n",
    "        netware += 1\n",
    "    \n",
    "    elif sistemas [i] == 5:\n",
    "        mac += 1\n",
    "    \n",
    "    elif sistemas [i] == 6:\n",
    "        outros += 1\n",
    "        \n",
    "pwindows = (100 * windows) / len(sistemas)\n",
    "punix = (100 * unix) / len(sistemas)\n",
    "plinux = (100 * linux) / len(sistemas)\n",
    "pnetware = (100 * netware) / len(sistemas)\n",
    "pmac = (100 * mac) / len(sistemas)\n",
    "poutros = (100 * outros) / len(sistemas)\n",
    "total = windows + unix + linux + netware + mac + outros\n",
    "lista_votos = [windows,unix,linux,netware,mac,outros]\n",
    "listaSistema = ['windowsServer', 'Unix', 'Linux', 'Netware', 'MacOs', 'Outro']\n",
    "maior_voto = max(lista_votos)\n",
    "maior_indice = lista_votos.index(maior_voto)\n",
    "sistema_maior = listaSistema[maior_indice]\n",
    "lista_porcentagem = [pwindows,punix,plinux,pnetware,pmac,poutros]\n",
    "maior_porcentagem = max(lista_porcentagem)\n",
    "print(\"\")\n",
    "\n",
    "print(\"Sistema operacional    Votos     %\")\n",
    "print(\"-\"*19,       \"-\"*10, \"-\"*5)\n",
    "print(\"Windows Server          {}        {:.0f}%\".format(windows,pwindows))\n",
    "print(\"Unix                    {}        {:.0f}%\".format(unix,punix))\n",
    "print(\"Linux                   {}        {:.0f}%\".format(linux,plinux))\n",
    "print(\"Netware                 {}        {:.0f}%\".format(netware,pnetware))\n",
    "print(\"Mac OS                  {}        {:.0f}%\".format(mac,pmac))\n",
    "print(\"Outros                  {}        {:.0f}%\".format(outros,poutros))\n",
    "print(\"-\"*19,       \"-\"*10)\n",
    "print(\"Total                   {}\".format(total))\n",
    "print(\"\")\n",
    "print(\"O Sistema Operacional mais votado foi o {}, com {} votos, correspodendo a {:.0f}% dos votos\".format(sistema_maior,maior_voto,maior_porcentagem))\n",
    "\n",
    "\n",
    "\n"
   ]
  },
  {
   "cell_type": "markdown",
   "id": "d68616d9",
   "metadata": {},
   "source": [
    "16. Escreva um programa em Python para encontrar o segundo maior elemento de\n",
    "uma lista com 20 números inteiros.\n",
    "OBS: todos os valores informados serão de valores diferentes e a solução não\n",
    "deve fazer este tratamento das entradas. Além disso, a solução não deve\n",
    "modificar a lista original com a ordem fornecida dos números"
   ]
  },
  {
   "cell_type": "code",
   "execution_count": 7,
   "id": "7cae6d1e",
   "metadata": {},
   "outputs": [
    {
     "name": "stdout",
     "output_type": "stream",
     "text": [
      "Digite um número: 1\n",
      "Digite um número: 2\n",
      "Digite um número: 3\n",
      "Digite um número: 4\n",
      "Digite um número: 5\n",
      "O segundo maior número da lista é 4\n"
     ]
    }
   ],
   "source": [
    "lista = []\n",
    "\n",
    "for i in range (5):\n",
    "    n = int(input(\"Digite um número: \"))\n",
    "    lista.append(n)\n",
    "\n",
    "lista.remove(max(lista))\n",
    "lista = max(lista)\n",
    "print(\"O segundo maior número da lista é {}\".format(lista))"
   ]
  },
  {
   "cell_type": "markdown",
   "id": "b304c5b7",
   "metadata": {},
   "source": [
    "17. Escreva um programa em Python para converter um número inteiro em binário\n",
    "de acordo com a representação de grandeza com sinal (sinal e magnitude). O\n",
    "programa deve receber um número inteiro e produzir como saída uma lista com\n",
    "os bits do número convertido (um bit para cada posição da lista). Além disso\n",
    "deve ser feita a verificação se o número pode ser representado, considere uma\n",
    "representação com 8 bits (um para o sinal e 7 para a magnitude)"
   ]
  },
  {
   "cell_type": "code",
   "execution_count": 19,
   "id": "c482503e",
   "metadata": {},
   "outputs": [
    {
     "name": "stdout",
     "output_type": "stream",
     "text": [
      "Digite um número inteiro para ser convertido em binário: -300\n",
      "O número [1, 1, 0, 0, 1, 0, 1, 1, 0, 0] com o sinal módulo, não pode ser representado em 8 bits \n"
     ]
    }
   ],
   "source": [
    "n = int(input(\"Digite um número inteiro para ser convertido em binário: \"))\n",
    "n_final = n\n",
    "sinal = [0]\n",
    "binario = []\n",
    "if n >= 0:\n",
    "    while True:\n",
    "        if (n == 1):\n",
    "            binario.append(1)\n",
    "            break\n",
    "        if (n == 0):\n",
    "            binario.append(0)\n",
    "            break\n",
    "\n",
    "        resto_div = n % 2\n",
    "        if (resto_div == 0):\n",
    "            binario.append(0)\n",
    "\n",
    "        if (resto_div == 1):\n",
    "            binario.append(1)\n",
    "        n /= 2\n",
    "        n = int(n)\n",
    "    \n",
    "if (n < 0):\n",
    "    n *= -1\n",
    "    while True:\n",
    "        \n",
    "        if (n == 1):\n",
    "            binario.append(1)\n",
    "            break\n",
    "        if (n == 0):\n",
    "            binario.append(0)\n",
    "            break\n",
    "\n",
    "        resto_div = n % 2\n",
    "        if (resto_div == 0):\n",
    "            binario.append(0)\n",
    "\n",
    "        if (resto_div == 1):\n",
    "            binario.append(1)\n",
    "        n /= 2\n",
    "        n = int(n)\n",
    "\n",
    "    \n",
    "if (len(binario) > 7):\n",
    "    binario.reverse()\n",
    "    if n_final > 0:\n",
    "       binario.insert(0,0)\n",
    "    \n",
    "    if n_final < 0:\n",
    "        binario.insert(0,1)\n",
    "    print(\"O número {} com o sinal módulo, não pode ser representado em 8 bits \".format(binario))\n",
    "    \n",
    "    \n",
    "    \n",
    "if (len(binario) <= 8):\n",
    "    \n",
    "    while (len(binario) < 7):\n",
    "        binario.append(0)\n",
    "        \n",
    "        binario.reverse()\n",
    "\n",
    "    if n_final > 0:\n",
    "        binario.insert(0,0)\n",
    "    \n",
    "    if n_final < 0:\n",
    "        binario.insert(0,1)\n",
    " \n",
    "if(len(binario) <= 8):\n",
    "    print(\"O número {} em binário é: {}\".format(n_final,binario))\n",
    "\n",
    "\n"
   ]
  },
  {
   "cell_type": "code",
   "execution_count": null,
   "id": "7a73ce26",
   "metadata": {},
   "outputs": [],
   "source": []
  },
  {
   "cell_type": "code",
   "execution_count": null,
   "id": "25fa7cd0",
   "metadata": {},
   "outputs": [],
   "source": []
  },
  {
   "cell_type": "code",
   "execution_count": null,
   "id": "991d991f",
   "metadata": {},
   "outputs": [],
   "source": []
  }
 ],
 "metadata": {
  "kernelspec": {
   "display_name": "Python 3",
   "language": "python",
   "name": "python3"
  },
  "language_info": {
   "codemirror_mode": {
    "name": "ipython",
    "version": 3
   },
   "file_extension": ".py",
   "mimetype": "text/x-python",
   "name": "python",
   "nbconvert_exporter": "python",
   "pygments_lexer": "ipython3",
   "version": "3.8.8"
  }
 },
 "nbformat": 4,
 "nbformat_minor": 5
}
