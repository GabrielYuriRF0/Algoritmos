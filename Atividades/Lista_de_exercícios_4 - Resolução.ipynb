{
 "cells": [
  {
   "cell_type": "markdown",
   "id": "5f400a20",
   "metadata": {},
   "source": [
    "1.Escreva um programa que efetue a leitura de 20 valores numéricos e\n",
    "apresente no final o total do somatório e a média dos valores lidos.\n"
   ]
  },
  {
   "cell_type": "code",
   "execution_count": 4,
   "id": "0d6dfa39",
   "metadata": {},
   "outputs": [
    {
     "name": "stdout",
     "output_type": "stream",
     "text": [
      "Digite um número:1\n",
      "Digite um número:1\n",
      "Digite um número:1\n",
      "Digite um número:1\n",
      "Digite um número:1\n",
      "Digite um número:1\n",
      "Digite um número:1\n",
      "Digite um número:1\n",
      "Digite um número:1\n",
      "Digite um número:1\n",
      "Digite um número:1\n",
      "Digite um número:1\n",
      "Digite um número:1\n",
      "Digite um número:1\n",
      "Digite um número:1\n",
      "Digite um número:1\n",
      "Digite um número:1\n",
      "Digite um número:1\n",
      "Digite um número:1\n",
      "Digite um número:1\n",
      "A soma dos números é: 20 e a média é: 1.0\n"
     ]
    }
   ],
   "source": [
    "soma = 0\n",
    "for i in range (20):\n",
    "    numero = int(input(\"Digite um número:\"))\n",
    "    soma += numero\n",
    "    \n",
    "media = soma / 20\n",
    "\n",
    "print(\"A soma dos números é:\",soma,\"e a média é:\",media)"
   ]
  },
  {
   "cell_type": "markdown",
   "id": "03bbe354",
   "metadata": {},
   "source": [
    "2.Escreva um programa que calcula a média de 30 alunos e informa a situação\n",
    "(reprovado, aprovado ou recuperação)."
   ]
  },
  {
   "cell_type": "code",
   "execution_count": 10,
   "id": "ee2b4a79",
   "metadata": {},
   "outputs": [
    {
     "name": "stdout",
     "output_type": "stream",
     "text": [
      "\n",
      "Digite a primeira nota: 7\n",
      "Digite a segunda nota: 7\n",
      "Aprovado\n",
      "\n",
      "Digite a primeira nota: 7\n",
      "Digite a segunda nota: 7\n",
      "Aprovado\n",
      "\n",
      "Digite a primeira nota: 7\n",
      "Digite a segunda nota: 7\n",
      "Aprovado\n",
      "\n",
      "Digite a primeira nota: 2121\n",
      "Digite a segunda nota: 5454\n",
      "Aprovado\n",
      "\n"
     ]
    },
    {
     "ename": "KeyboardInterrupt",
     "evalue": "Interrupted by user",
     "output_type": "error",
     "traceback": [
      "\u001b[1;31m---------------------------------------------------------------------------\u001b[0m",
      "\u001b[1;31mKeyboardInterrupt\u001b[0m                         Traceback (most recent call last)",
      "\u001b[1;32m<ipython-input-10-1f2c5ce5f407>\u001b[0m in \u001b[0;36m<module>\u001b[1;34m\u001b[0m\n\u001b[0;32m      1\u001b[0m \u001b[1;32mfor\u001b[0m \u001b[0mi\u001b[0m \u001b[1;32min\u001b[0m \u001b[0mrange\u001b[0m\u001b[1;33m(\u001b[0m\u001b[1;36m30\u001b[0m\u001b[1;33m)\u001b[0m\u001b[1;33m:\u001b[0m\u001b[1;33m\u001b[0m\u001b[1;33m\u001b[0m\u001b[0m\n\u001b[0;32m      2\u001b[0m     \u001b[0mprint\u001b[0m\u001b[1;33m(\u001b[0m\u001b[1;34m\"\"\u001b[0m\u001b[1;33m)\u001b[0m\u001b[1;33m\u001b[0m\u001b[1;33m\u001b[0m\u001b[0m\n\u001b[1;32m----> 3\u001b[1;33m     \u001b[0mn1\u001b[0m \u001b[1;33m=\u001b[0m \u001b[0mfloat\u001b[0m\u001b[1;33m(\u001b[0m\u001b[0minput\u001b[0m\u001b[1;33m(\u001b[0m\u001b[1;34m\"Digite a primeira nota: \"\u001b[0m\u001b[1;33m)\u001b[0m\u001b[1;33m)\u001b[0m\u001b[1;33m\u001b[0m\u001b[1;33m\u001b[0m\u001b[0m\n\u001b[0m\u001b[0;32m      4\u001b[0m     \u001b[0mn2\u001b[0m \u001b[1;33m=\u001b[0m \u001b[0mfloat\u001b[0m\u001b[1;33m(\u001b[0m\u001b[0minput\u001b[0m\u001b[1;33m(\u001b[0m\u001b[1;34m\"Digite a segunda nota: \"\u001b[0m\u001b[1;33m)\u001b[0m\u001b[1;33m)\u001b[0m\u001b[1;33m\u001b[0m\u001b[1;33m\u001b[0m\u001b[0m\n\u001b[0;32m      5\u001b[0m \u001b[1;33m\u001b[0m\u001b[0m\n",
      "\u001b[1;32m~\\anaconda3\\lib\\site-packages\\ipykernel\\kernelbase.py\u001b[0m in \u001b[0;36mraw_input\u001b[1;34m(self, prompt)\u001b[0m\n\u001b[0;32m    858\u001b[0m                 \u001b[1;34m\"raw_input was called, but this frontend does not support input requests.\"\u001b[0m\u001b[1;33m\u001b[0m\u001b[1;33m\u001b[0m\u001b[0m\n\u001b[0;32m    859\u001b[0m             )\n\u001b[1;32m--> 860\u001b[1;33m         return self._input_request(str(prompt),\n\u001b[0m\u001b[0;32m    861\u001b[0m             \u001b[0mself\u001b[0m\u001b[1;33m.\u001b[0m\u001b[0m_parent_ident\u001b[0m\u001b[1;33m,\u001b[0m\u001b[1;33m\u001b[0m\u001b[1;33m\u001b[0m\u001b[0m\n\u001b[0;32m    862\u001b[0m             \u001b[0mself\u001b[0m\u001b[1;33m.\u001b[0m\u001b[0m_parent_header\u001b[0m\u001b[1;33m,\u001b[0m\u001b[1;33m\u001b[0m\u001b[1;33m\u001b[0m\u001b[0m\n",
      "\u001b[1;32m~\\anaconda3\\lib\\site-packages\\ipykernel\\kernelbase.py\u001b[0m in \u001b[0;36m_input_request\u001b[1;34m(self, prompt, ident, parent, password)\u001b[0m\n\u001b[0;32m    902\u001b[0m             \u001b[1;32mexcept\u001b[0m \u001b[0mKeyboardInterrupt\u001b[0m\u001b[1;33m:\u001b[0m\u001b[1;33m\u001b[0m\u001b[1;33m\u001b[0m\u001b[0m\n\u001b[0;32m    903\u001b[0m                 \u001b[1;31m# re-raise KeyboardInterrupt, to truncate traceback\u001b[0m\u001b[1;33m\u001b[0m\u001b[1;33m\u001b[0m\u001b[1;33m\u001b[0m\u001b[0m\n\u001b[1;32m--> 904\u001b[1;33m                 \u001b[1;32mraise\u001b[0m \u001b[0mKeyboardInterrupt\u001b[0m\u001b[1;33m(\u001b[0m\u001b[1;34m\"Interrupted by user\"\u001b[0m\u001b[1;33m)\u001b[0m \u001b[1;32mfrom\u001b[0m \u001b[1;32mNone\u001b[0m\u001b[1;33m\u001b[0m\u001b[1;33m\u001b[0m\u001b[0m\n\u001b[0m\u001b[0;32m    905\u001b[0m             \u001b[1;32mexcept\u001b[0m \u001b[0mException\u001b[0m \u001b[1;32mas\u001b[0m \u001b[0me\u001b[0m\u001b[1;33m:\u001b[0m\u001b[1;33m\u001b[0m\u001b[1;33m\u001b[0m\u001b[0m\n\u001b[0;32m    906\u001b[0m                 \u001b[0mself\u001b[0m\u001b[1;33m.\u001b[0m\u001b[0mlog\u001b[0m\u001b[1;33m.\u001b[0m\u001b[0mwarning\u001b[0m\u001b[1;33m(\u001b[0m\u001b[1;34m\"Invalid Message:\"\u001b[0m\u001b[1;33m,\u001b[0m \u001b[0mexc_info\u001b[0m\u001b[1;33m=\u001b[0m\u001b[1;32mTrue\u001b[0m\u001b[1;33m)\u001b[0m\u001b[1;33m\u001b[0m\u001b[1;33m\u001b[0m\u001b[0m\n",
      "\u001b[1;31mKeyboardInterrupt\u001b[0m: Interrupted by user"
     ]
    }
   ],
   "source": [
    "for i in range(30):\n",
    "    print(\"\")\n",
    "    n1 = float(input(\"Digite a primeira nota: \"))\n",
    "    n2 = float(input(\"Digite a segunda nota: \"))\n",
    "    \n",
    "    media = (n1 + n2) / 2\n",
    "    \n",
    "    if media >= 7:\n",
    "        print(\"Aprovado\")\n",
    "    \n",
    "    elif media < 4:\n",
    "        print(\"Reprovado\")\n",
    "        \n",
    "    else:\n",
    "        print('Recuperação')\n",
    "    "
   ]
  },
  {
   "cell_type": "markdown",
   "id": "eaea0fd8",
   "metadata": {},
   "source": [
    "3.Escreva um programa para mostrar os números ímpares de 10 a 100.\n"
   ]
  },
  {
   "cell_type": "code",
   "execution_count": 12,
   "id": "991626e6",
   "metadata": {},
   "outputs": [
    {
     "name": "stdout",
     "output_type": "stream",
     "text": [
      "11\n",
      "13\n",
      "15\n",
      "17\n",
      "19\n",
      "21\n",
      "23\n",
      "25\n",
      "27\n",
      "29\n",
      "31\n",
      "33\n",
      "35\n",
      "37\n",
      "39\n",
      "41\n",
      "43\n",
      "45\n",
      "47\n",
      "49\n",
      "51\n",
      "53\n",
      "55\n",
      "57\n",
      "59\n",
      "61\n",
      "63\n",
      "65\n",
      "67\n",
      "69\n",
      "71\n",
      "73\n",
      "75\n",
      "77\n",
      "79\n",
      "81\n",
      "83\n",
      "85\n",
      "87\n",
      "89\n",
      "91\n",
      "93\n",
      "95\n",
      "97\n",
      "99\n"
     ]
    }
   ],
   "source": [
    "for i in range(11,101,2):\n",
    "    print(i)"
   ]
  },
  {
   "cell_type": "markdown",
   "id": "ff706a15",
   "metadata": {},
   "source": [
    "4.Fazer um programa para ler o sexo de dez pessoas e mostrar a quantidade de\n",
    "pessoas do sexo masculino e do sexo feminino, separadamente.\n"
   ]
  },
  {
   "cell_type": "code",
   "execution_count": 18,
   "id": "e5b67d54",
   "metadata": {},
   "outputs": [
    {
     "name": "stdout",
     "output_type": "stream",
     "text": [
      "Digite M para Mascuilino ou F para Feminino: A\n",
      "Você digitou errado! Insira M para Mascuilino ou F para Feminino: F\n",
      "Digite M para Mascuilino ou F para Feminino: F\n",
      "Digite M para Mascuilino ou F para Feminino: F\n",
      "Digite M para Mascuilino ou F para Feminino: F\n",
      "Digite M para Mascuilino ou F para Feminino: F\n",
      "Digite M para Mascuilino ou F para Feminino: M\n",
      "Digite M para Mascuilino ou F para Feminino: M\n",
      "Digite M para Mascuilino ou F para Feminino: M\n",
      "Digite M para Mascuilino ou F para Feminino: M\n",
      "Digite M para Mascuilino ou F para Feminino: M\n",
      "A quantidade de homens é:  5  e a quantidade de mulheres é: 5\n"
     ]
    }
   ],
   "source": [
    "total_masculino = total_feminino = 0\n",
    "\n",
    "for i in range(10):\n",
    "    sexo = input(\"Digite M para Mascuilino ou F para Feminino: \")\n",
    "    while sexo != \"M\" and sexo != \"F\":\n",
    "        sexo = input(\"Você digitou errado! Insira M para Mascuilino ou F para Feminino: \")\n",
    "    if sexo == \"M\":\n",
    "        total_masculino += 1\n",
    "    else:\n",
    "        total_feminino += 1\n",
    "\n",
    "print(\"\")\n",
    "print(\"A quantidade de homens é: \",total_masculino,\" e a quantidade de mulheres é:\",total_feminino)"
   ]
  },
  {
   "cell_type": "markdown",
   "id": "d71428b6",
   "metadata": {},
   "source": [
    "5. Escreva um programa que leia 10 números e informe o maior e o menor\n",
    "número.\n"
   ]
  },
  {
   "cell_type": "code",
   "execution_count": 26,
   "id": "5e894746",
   "metadata": {},
   "outputs": [
    {
     "name": "stdout",
     "output_type": "stream",
     "text": [
      "Digite um número: 10\n",
      "10 E 0\n",
      "Digite um número: 5\n",
      "5 E 0\n",
      "Digite um número: 10\n",
      "10 E 0\n"
     ]
    },
    {
     "ename": "KeyboardInterrupt",
     "evalue": "Interrupted by user",
     "output_type": "error",
     "traceback": [
      "\u001b[1;31m---------------------------------------------------------------------------\u001b[0m",
      "\u001b[1;31mKeyboardInterrupt\u001b[0m                         Traceback (most recent call last)",
      "\u001b[1;32m<ipython-input-26-824dc041e166>\u001b[0m in \u001b[0;36m<module>\u001b[1;34m\u001b[0m\n\u001b[0;32m      1\u001b[0m \u001b[1;32mfor\u001b[0m \u001b[0mi\u001b[0m \u001b[1;32min\u001b[0m \u001b[0mrange\u001b[0m\u001b[1;33m(\u001b[0m\u001b[1;36m10\u001b[0m\u001b[1;33m)\u001b[0m\u001b[1;33m:\u001b[0m\u001b[1;33m\u001b[0m\u001b[1;33m\u001b[0m\u001b[0m\n\u001b[0;32m      2\u001b[0m     \u001b[0mn_atual\u001b[0m \u001b[1;33m=\u001b[0m \u001b[1;36m0\u001b[0m\u001b[1;33m\u001b[0m\u001b[1;33m\u001b[0m\u001b[0m\n\u001b[1;32m----> 3\u001b[1;33m     \u001b[0mn\u001b[0m \u001b[1;33m=\u001b[0m \u001b[0mint\u001b[0m\u001b[1;33m(\u001b[0m\u001b[0minput\u001b[0m\u001b[1;33m(\u001b[0m\u001b[1;34m\"Digite um número: \"\u001b[0m\u001b[1;33m)\u001b[0m\u001b[1;33m)\u001b[0m\u001b[1;33m\u001b[0m\u001b[1;33m\u001b[0m\u001b[0m\n\u001b[0m\u001b[0;32m      4\u001b[0m     \u001b[0mn_atual\u001b[0m \u001b[1;33m=\u001b[0m \u001b[0mn\u001b[0m\u001b[1;33m\u001b[0m\u001b[1;33m\u001b[0m\u001b[0m\n\u001b[0;32m      5\u001b[0m     \u001b[0mn_anterior\u001b[0m \u001b[1;33m=\u001b[0m \u001b[0mn_atual\u001b[0m \u001b[1;33m-\u001b[0m \u001b[0mn\u001b[0m\u001b[1;33m\u001b[0m\u001b[1;33m\u001b[0m\u001b[0m\n",
      "\u001b[1;32m~\\anaconda3\\lib\\site-packages\\ipykernel\\kernelbase.py\u001b[0m in \u001b[0;36mraw_input\u001b[1;34m(self, prompt)\u001b[0m\n\u001b[0;32m    858\u001b[0m                 \u001b[1;34m\"raw_input was called, but this frontend does not support input requests.\"\u001b[0m\u001b[1;33m\u001b[0m\u001b[1;33m\u001b[0m\u001b[0m\n\u001b[0;32m    859\u001b[0m             )\n\u001b[1;32m--> 860\u001b[1;33m         return self._input_request(str(prompt),\n\u001b[0m\u001b[0;32m    861\u001b[0m             \u001b[0mself\u001b[0m\u001b[1;33m.\u001b[0m\u001b[0m_parent_ident\u001b[0m\u001b[1;33m,\u001b[0m\u001b[1;33m\u001b[0m\u001b[1;33m\u001b[0m\u001b[0m\n\u001b[0;32m    862\u001b[0m             \u001b[0mself\u001b[0m\u001b[1;33m.\u001b[0m\u001b[0m_parent_header\u001b[0m\u001b[1;33m,\u001b[0m\u001b[1;33m\u001b[0m\u001b[1;33m\u001b[0m\u001b[0m\n",
      "\u001b[1;32m~\\anaconda3\\lib\\site-packages\\ipykernel\\kernelbase.py\u001b[0m in \u001b[0;36m_input_request\u001b[1;34m(self, prompt, ident, parent, password)\u001b[0m\n\u001b[0;32m    902\u001b[0m             \u001b[1;32mexcept\u001b[0m \u001b[0mKeyboardInterrupt\u001b[0m\u001b[1;33m:\u001b[0m\u001b[1;33m\u001b[0m\u001b[1;33m\u001b[0m\u001b[0m\n\u001b[0;32m    903\u001b[0m                 \u001b[1;31m# re-raise KeyboardInterrupt, to truncate traceback\u001b[0m\u001b[1;33m\u001b[0m\u001b[1;33m\u001b[0m\u001b[1;33m\u001b[0m\u001b[0m\n\u001b[1;32m--> 904\u001b[1;33m                 \u001b[1;32mraise\u001b[0m \u001b[0mKeyboardInterrupt\u001b[0m\u001b[1;33m(\u001b[0m\u001b[1;34m\"Interrupted by user\"\u001b[0m\u001b[1;33m)\u001b[0m \u001b[1;32mfrom\u001b[0m \u001b[1;32mNone\u001b[0m\u001b[1;33m\u001b[0m\u001b[1;33m\u001b[0m\u001b[0m\n\u001b[0m\u001b[0;32m    905\u001b[0m             \u001b[1;32mexcept\u001b[0m \u001b[0mException\u001b[0m \u001b[1;32mas\u001b[0m \u001b[0me\u001b[0m\u001b[1;33m:\u001b[0m\u001b[1;33m\u001b[0m\u001b[1;33m\u001b[0m\u001b[0m\n\u001b[0;32m    906\u001b[0m                 \u001b[0mself\u001b[0m\u001b[1;33m.\u001b[0m\u001b[0mlog\u001b[0m\u001b[1;33m.\u001b[0m\u001b[0mwarning\u001b[0m\u001b[1;33m(\u001b[0m\u001b[1;34m\"Invalid Message:\"\u001b[0m\u001b[1;33m,\u001b[0m \u001b[0mexc_info\u001b[0m\u001b[1;33m=\u001b[0m\u001b[1;32mTrue\u001b[0m\u001b[1;33m)\u001b[0m\u001b[1;33m\u001b[0m\u001b[1;33m\u001b[0m\u001b[0m\n",
      "\u001b[1;31mKeyboardInterrupt\u001b[0m: Interrupted by user"
     ]
    }
   ],
   "source": [
    "for i in range(10):\n",
    "    n_atual = 0\n",
    "    n = int(input(\"Digite um número: \"))\n",
    "    n_atual = n\n",
    "    n_anterior = n_atual - n\n",
    "    \n",
    "    print(n_atual, \"E\",n_anterior )\n",
    "    \n",
    "    "
   ]
  },
  {
   "cell_type": "markdown",
   "id": "4fed02a1",
   "metadata": {},
   "source": [
    "10.Faça um programa para calcular a área de N Círculos. Fórmula: \n",
    "Área = π raio2\n",
    "π = 3,141592.\n"
   ]
  },
  {
   "cell_type": "code",
   "execution_count": 32,
   "id": "1dca6c75",
   "metadata": {},
   "outputs": [
    {
     "name": "stdout",
     "output_type": "stream",
     "text": [
      "Quantas áreas de círculos você quer calcular?2\n",
      "\n",
      "Informe o raio do círculo: 2\n",
      "A área do círculo é: 12.5664\n",
      "\n",
      "Informe o raio do círculo: 2\n",
      "A área do círculo é: 12.5664\n"
     ]
    }
   ],
   "source": [
    "import math\n",
    "quantidade = int(input(\"Quantas áreas de círculos você quer calcular?\"))\n",
    "\n",
    "for i in range(quantidade):\n",
    "    print(\"\")\n",
    "    raio = float(input(\"Informe o raio do círculo: \"))\n",
    "    area = math.pi * math.pow(raio,2)\n",
    "    print(\"A área do círculo é:\",'{:.4f}'.format(area))"
   ]
  },
  {
   "cell_type": "code",
   "execution_count": null,
   "id": "f1740236",
   "metadata": {},
   "outputs": [],
   "source": []
  }
 ],
 "metadata": {
  "kernelspec": {
   "display_name": "Python 3",
   "language": "python",
   "name": "python3"
  },
  "language_info": {
   "codemirror_mode": {
    "name": "ipython",
    "version": 3
   },
   "file_extension": ".py",
   "mimetype": "text/x-python",
   "name": "python",
   "nbconvert_exporter": "python",
   "pygments_lexer": "ipython3",
   "version": "3.8.8"
  }
 },
 "nbformat": 4,
 "nbformat_minor": 5
}
