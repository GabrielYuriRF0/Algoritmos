{
 "cells": [
  {
   "cell_type": "markdown",
   "id": "funny-librarian",
   "metadata": {},
   "source": [
    "1.Faça um Programa que peça um número e então mostre a mensagem: O número informado foi [número]. \n"
   ]
  },
  {
   "cell_type": "code",
   "execution_count": null,
   "id": "beautiful-spray",
   "metadata": {},
   "outputs": [],
   "source": [
    "numero = int(input(\"Digite um número:\"))\n",
    "print(\"O número informado foi:\", numero)\n"
   ]
  },
  {
   "cell_type": "markdown",
   "id": "hollow-governor",
   "metadata": {},
   "source": [
    "2.Faça um Programa que peça dois números e imprima a soma."
   ]
  },
  {
   "cell_type": "code",
   "execution_count": null,
   "id": "humanitarian-advantage",
   "metadata": {},
   "outputs": [],
   "source": [
    "n1 = int(input(\"Digite um número: \"))\n",
    "n2 = int(input(\"Digite outro número: \"))\n",
    "\n",
    "soma = n1 + n2\n",
    "\n",
    "print(\"A soma dos número é:\", soma)"
   ]
  },
  {
   "cell_type": "markdown",
   "id": "anonymous-criticism",
   "metadata": {},
   "source": [
    "3.Faça um Programa que peça as 4 notas bimestrais e mostre a média. "
   ]
  },
  {
   "cell_type": "code",
   "execution_count": null,
   "id": "excellent-shore",
   "metadata": {},
   "outputs": [],
   "source": [
    "m1 = float(input(\"Insira a primeira nota: \"))\n",
    "m2 = float(input(\"Insira a segunda nota: \"))\n",
    "m3 = float(input(\"Insira a terceira nota: \"))\n",
    "m4 = float(input(\"Insira a quarta nota: \"))\n",
    "\n",
    "media = (m1 + m2 + m3 + m4) / 4\n",
    "print(\"\")\n",
    "\n",
    "print(\"A média bimestral do aluno é: \", media)\n"
   ]
  },
  {
   "cell_type": "markdown",
   "id": "buried-works",
   "metadata": {},
   "source": [
    "4.Faça um Programa que converta metros para centímetros."
   ]
  },
  {
   "cell_type": "code",
   "execution_count": null,
   "id": "dental-holocaust",
   "metadata": {},
   "outputs": [],
   "source": [
    "metros = float(input(\"Insira um valor em metros: \"))\n",
    "\n",
    "centimetros = metros * 100\n",
    "print(\"\")\n",
    "print(\"O mesmo valor em centímetros vale:\", centimetros)"
   ]
  },
  {
   "cell_type": "markdown",
   "id": "fitted-therapy",
   "metadata": {},
   "source": [
    "5.Faça um Programa que peça o raio de um círculo, calcule e mostre sua área. "
   ]
  },
  {
   "cell_type": "code",
   "execution_count": null,
   "id": "static-insurance",
   "metadata": {},
   "outputs": [],
   "source": [
    "import math \n",
    "\n",
    "raio = float(input(\"Digite o raio do círculo: \"))\n",
    "\n",
    "area = math.pi * (raio**raio)\n",
    "print(\"\")\n",
    "\n",
    "print(\"A área do círculo é:\",area)\n"
   ]
  },
  {
   "cell_type": "markdown",
   "id": "tender-polymer",
   "metadata": {},
   "source": [
    "6.Faça um Programa que calcule a área de um quadrado, em seguida mostre o dobro desta área para o usuário. "
   ]
  },
  {
   "cell_type": "code",
   "execution_count": null,
   "id": "warming-speaker",
   "metadata": {},
   "outputs": [],
   "source": [
    "lado = float(input(\"Insira o valor de um dos lados do quadrado: \"))\n",
    "\n",
    "area = lado * lado\n",
    "saida = area * 2\n",
    "print(\"\")\n",
    "\n",
    "print(\"O dobro da área do quadrado em questão é:\",saida)"
   ]
  },
  {
   "cell_type": "markdown",
   "id": "demanding-story",
   "metadata": {},
   "source": [
    "7.Faça um Programa que pergunte quanto você ganha por hora e o número de horas trabalhadas no mês. Calcule e mostre o total do seu salário no referido mês."
   ]
  },
  {
   "cell_type": "code",
   "execution_count": 2,
   "id": "failing-industry",
   "metadata": {},
   "outputs": [
    {
     "name": "stdout",
     "output_type": "stream",
     "text": [
      "Quanto você ganha por hora? 10\n",
      "Quantas horas você trabalha por mês? 10\n",
      "O seu salário foi de: 100.0 Reais\n"
     ]
    }
   ],
   "source": [
    "ganho_hora = float(input(\"Quanto você ganha por hora? \"))\n",
    "horas_totais = float(input(\"Quantas horas você trabalha por mês? \"))\n",
    "\n",
    "salario = ganho_hora * horas_totais\n",
    "\n",
    "print(\"O seu salário foi de:\", salario,\"Reais\")\n"
   ]
  },
  {
   "cell_type": "markdown",
   "id": "satisfactory-watts",
   "metadata": {},
   "source": [
    "8.Faça um Programa que peça a temperatura em graus Farenheit, transforme e mostre a\n",
    "temperatura em graus Celsius. C = (5 * (F-32) / 9)."
   ]
  },
  {
   "cell_type": "code",
   "execution_count": 3,
   "id": "legislative-projector",
   "metadata": {},
   "outputs": [
    {
     "name": "stdout",
     "output_type": "stream",
     "text": [
      "Insira a temperatura em Farenheit: 10\n",
      "A temperatura convertida em graus Celsius é de: -12.222222222222221\n"
     ]
    }
   ],
   "source": [
    "tf = float(input(\"Insira a temperatura em Farenheit: \"))\n",
    "\n",
    "tc = (5*(tf-32)/9)\n",
    "\n",
    "print(\"A temperatura convertida em graus Celsius é de:\",tc)"
   ]
  },
  {
   "cell_type": "markdown",
   "id": "described-basics",
   "metadata": {},
   "source": [
    "9.Faça um Programa que peça a temperatura em graus Celsius, transforme e mostre em\n",
    "graus Farenheit."
   ]
  },
  {
   "cell_type": "code",
   "execution_count": 18,
   "id": "french-vegetarian",
   "metadata": {},
   "outputs": [
    {
     "name": "stdout",
     "output_type": "stream",
     "text": [
      "Insira a temperatura em graus Celsius: 10\n",
      "A temperatura convertida em graus Farenheit é de: 50.000\n"
     ]
    }
   ],
   "source": [
    "tc = float(input(\"Insira a temperatura em graus Celsius: \"))\n",
    "\n",
    "tf = (tc*9/5) + 32\n",
    "\n",
    "print(\"A temperatura convertida em graus Farenheit é de:\",'{:.3f}'.format(tf))"
   ]
  },
  {
   "cell_type": "markdown",
   "id": "overhead-broadcast",
   "metadata": {},
   "source": [
    "10.Elaborar um algoritmo que efetue a apresentação do valor da conversão em real (R$)\n",
    "de um valor lido em dólar (US$). O algoritmo deverá solicitar o valor da cotação do\n",
    "dólar e também a quantidade de dólares disponíveis com o usuário."
   ]
  },
  {
   "cell_type": "code",
   "execution_count": 6,
   "id": "prepared-century",
   "metadata": {},
   "outputs": [
    {
     "name": "stdout",
     "output_type": "stream",
     "text": [
      "Insira o valor da cotação do dólar: 10\n",
      "Quanto em dólar você tem? 10\n",
      "Você possui: 100.0 Reais\n"
     ]
    }
   ],
   "source": [
    "cotacao = float(input(\"Insira o valor da cotação do dólar: \"))\n",
    "dolar = float(input(\"Quanto em dólar você tem? \"))\n",
    "\n",
    "real = cotacao * dolar\n",
    "\n",
    "print(\"Você possui:\", real,\"Reais\")"
   ]
  },
  {
   "cell_type": "markdown",
   "id": "narrow-heath",
   "metadata": {},
   "source": [
    "11.Faça um algoritmo que receba um valor que foi depositado e exiba o valor com\n",
    "rendimento após um mês. Considere fixo o juro da poupança em 0,70% a. m."
   ]
  },
  {
   "cell_type": "code",
   "execution_count": 12,
   "id": "dried-edinburgh",
   "metadata": {},
   "outputs": [
    {
     "name": "stdout",
     "output_type": "stream",
     "text": [
      "insira o valor depositado: 10\n",
      "O valor total após 1 mês é de: 10.07\n"
     ]
    }
   ],
   "source": [
    "depositado = float(input(\"insira o valor depositado: \"))\n",
    "\n",
    "\n",
    "total = depositado + depositado * 0.7/100\n",
    "\n",
    "print(\"O valor total após 1 mês é de:\",total)"
   ]
  },
  {
   "cell_type": "markdown",
   "id": "damaged-recipient",
   "metadata": {},
   "source": [
    "12.A Loja Mamão com Açúcar está vendendo seus produtos em 5 (cinco) prestações sem\n",
    "juros. Faça um algoritmo que receba um valor de uma compra e mostre o valor das\n",
    "prestações."
   ]
  },
  {
   "cell_type": "code",
   "execution_count": 15,
   "id": "medieval-briefing",
   "metadata": {},
   "outputs": [
    {
     "name": "stdout",
     "output_type": "stream",
     "text": [
      "Qual é o valor total da compra? 20\n",
      "\n",
      "A primeira prestação vai ser de: 4.0 Reais\n",
      "A segunda prestação vai ser de: 4.0 Reais\n",
      "A terceira prestação vai ser de: 4.0 Reais\n",
      "A quarta prestação vai ser de: 4.0 Reais\n",
      "A quinta prestação vai ser de: 4.0 Reais\n"
     ]
    }
   ],
   "source": [
    "total = float(input(\"Qual é o valor total da compra? \"))\n",
    "print(\"\")\n",
    "\n",
    "print(\"A primeira prestação vai ser de:\",total/5,\"Reais\")\n",
    "print(\"A segunda prestação vai ser de:\",total/5,\"Reais\")\n",
    "print(\"A terceira prestação vai ser de:\",total/5,\"Reais\")\n",
    "print(\"A quarta prestação vai ser de:\",total/5,\"Reais\")\n",
    "print(\"A quinta prestação vai ser de:\",total/5,\"Reais\")"
   ]
  },
  {
   "cell_type": "markdown",
   "id": "meaning-fundamentals",
   "metadata": {},
   "source": [
    "13.Faça um algoritmo que receba o preço de custo de um produto e mostre o valor de\n",
    "venda. Sabe-se que o preço de custo receberá um acréscimo de acordo com um\n",
    "percentual informado pelo usuário."
   ]
  },
  {
   "cell_type": "code",
   "execution_count": 17,
   "id": "organized-looking",
   "metadata": {},
   "outputs": [
    {
     "name": "stdout",
     "output_type": "stream",
     "text": [
      "Qual o preço de custo do produto? 10\n",
      "Qual é o percentual de aumento desse produto? 10\n",
      "\n",
      "O valor de venda desse produto é de: 11.00 Reais\n"
     ]
    }
   ],
   "source": [
    "custo = float(input(\"Qual o preço de custo do produto? \"))\n",
    "acrescimo_percentual = float(input(\"Qual é o percentual de aumento desse produto? \"))\n",
    "\n",
    "venda = custo + custo * acrescimo_percentual/100\n",
    "\n",
    "print(\"\")\n",
    "print(\"O valor de venda desse produto é de:\",'{:.2f}'.format(venda),\"Reais\")"
   ]
  },
  {
   "cell_type": "markdown",
   "id": "changing-circus",
   "metadata": {},
   "source": [
    "14.Escrever um algoritmo para determinar o consumo médio de um automóvel sendo\n",
    "fornecida a distância total percorrida pelo automóvel e o total de combustível gasto."
   ]
  },
  {
   "cell_type": "code",
   "execution_count": 19,
   "id": "fancy-ordinary",
   "metadata": {},
   "outputs": [
    {
     "name": "stdout",
     "output_type": "stream",
     "text": [
      "Qual a distância total percorrida? 10\n",
      "Qual o total de combustível gasto? 2\n",
      "\n",
      "O consumo médio desse automóvel é de: 5.00 KM/L\n"
     ]
    }
   ],
   "source": [
    "distancia = float(input(\"Qual a distância total percorrida? \"))\n",
    "combustivel = float(input(\"Qual o total de combustível gasto? \"))\n",
    "\n",
    "consumo = distancia / combustivel\n",
    "\n",
    "print(\"\")\n",
    "print(\"O consumo médio desse automóvel é de:\",'{:.2f}'.format(consumo),\"KM/L\")"
   ]
  },
  {
   "cell_type": "markdown",
   "id": "fatal-burton",
   "metadata": {},
   "source": [
    "15.Escreva um programa que leia três números inteiros e positivos (A, B, C) e calcule a\n",
    "seguinte expressão: "
   ]
  },
  {
   "cell_type": "code",
   "execution_count": 20,
   "id": "champion-windows",
   "metadata": {},
   "outputs": [
    {
     "name": "stdout",
     "output_type": "stream",
     "text": [
      "Digite o valor de A: 10\n",
      "Digite o valor de B: 2\n",
      "Digite o valor de C: 5\n",
      "\n",
      "O valor de D é: 96.5\n"
     ]
    }
   ],
   "source": [
    "a = int(input(\"Digite o valor de A: \"))\n",
    "b = int(input(\"Digite o valor de B: \"))\n",
    "c = int(input(\"Digite o valor de C: \"))\n",
    "\n",
    "r = (a + b) ** 2 \n",
    "s = (b + c) ** 2 \n",
    "d = (r + s) / 2\n",
    "\n",
    "print(\"\")\n",
    "print(\"O valor de D é:\",d)"
   ]
  },
  {
   "cell_type": "markdown",
   "id": "continuous-shame",
   "metadata": {},
   "source": [
    "16.Escrever um algoritmo que leia o nome de um vendedor, o seu salário fixo e o total de\n",
    "vendas efetuadas por ele no mês (em dinheiro). Sabendo que este vendedor ganha\n",
    "15% de comissão sobre suas vendas efetuadas, informar o seu nome, o salário fixo e\n",
    "salário no final do mês."
   ]
  },
  {
   "cell_type": "code",
   "execution_count": null,
   "id": "connected-bangladesh",
   "metadata": {},
   "outputs": [],
   "source": [
    "nome = input(\"Qual é o seu nome? \")\n",
    "salario = float(input(\"Qual é o seu salário fixo? \"))\n",
    "vendas = float(input(\"Qual o seu número de vendas em dinheiro? \"))\n",
    "print(\"\")\n",
    "\n",
    "\n",
    "salario_final = salario + (15/100) * vendas\n",
    "\n",
    "print(\"Olá\" ,nome,\",o seu salário fixo é de: \",salario,\"Reais\")\n",
    "print(\"Já o seu salário junto com a comissão é de:\",salario_final,\"Reais\")"
   ]
  },
  {
   "cell_type": "markdown",
   "id": "ordinary-tsunami",
   "metadata": {},
   "source": [
    "17.Faça um Programa que peça 2 números inteiros e um número real. Calcule e mostre:\n",
    "o produto do dobro do primeiro com metade do segundo .\n",
    "a soma do triplo do primeiro com o terceiro.\n",
    "o terceiro elevado ao cubo."
   ]
  },
  {
   "cell_type": "code",
   "execution_count": 22,
   "id": "lesbian-latin",
   "metadata": {},
   "outputs": [
    {
     "name": "stdout",
     "output_type": "stream",
     "text": [
      "Insira o primeiro valor: 1\n",
      "Insira o segundo valor: 2\n",
      "Insira o terceiro valor: 3\n",
      "\n",
      "2.0\n",
      "6.0\n",
      "27.0\n"
     ]
    }
   ],
   "source": [
    "n1 = int(input(\"Insira o primeiro valor: \")) \n",
    "n2 = int(input(\"Insira o segundo valor: \")) \n",
    "n3 = float(input(\"Insira o terceiro valor: \")) \n",
    "\n",
    "produto = (2* n1) * (n2 / 2) \n",
    "soma = 3 * n1 + n3\n",
    "potencia = n3 ** 3\n",
    "\n",
    "print(\"\")\n",
    "print(produto)\n",
    "print(soma)\n",
    "print(potencia)"
   ]
  },
  {
   "cell_type": "markdown",
   "id": "solid-workshop",
   "metadata": {},
   "source": [
    "18.Tendo como dados de entrada a altura de uma pessoa, construa um algoritmo que\n",
    "calcule seu peso ideal, usando a seguinte fórmula: (72.7*altura) – 58."
   ]
  },
  {
   "cell_type": "code",
   "execution_count": 28,
   "id": "fleet-possible",
   "metadata": {},
   "outputs": [
    {
     "name": "stdout",
     "output_type": "stream",
     "text": [
      "Qual é a sua altura em metros? 1.78\n",
      "O seu peso ideal é de: 71.4\n"
     ]
    }
   ],
   "source": [
    "altura = float(input(\"Qual é a sua altura em metros? \"))\n",
    "\n",
    "peso_ideal = (72.7*altura) - 58\n",
    "\n",
    "print(\"O seu peso ideal é de:\",'{:.1f}'.format(peso_ideal))"
   ]
  },
  {
   "cell_type": "markdown",
   "id": "synthetic-paradise",
   "metadata": {},
   "source": [
    "19.Faça um programa que peça o tamanho de um arquivo para download (em MB) e a\n",
    "velocidade de um link de Internet (em MBps), calcule e informe o tempo aproximado de\n",
    "download do arquivo usando este link (em minutos)."
   ]
  },
  {
   "cell_type": "code",
   "execution_count": 30,
   "id": "activated-truth",
   "metadata": {},
   "outputs": [
    {
     "name": "stdout",
     "output_type": "stream",
     "text": [
      "Insira o tamanho do arquivo em MB: 120\n",
      "Insira a velocidade do link de internet em MBps: 2\n",
      "\n",
      "O tempo necessário para fazer o download do arquivo é de: 1.00\n"
     ]
    }
   ],
   "source": [
    "tamanho = float(input(\"Insira o tamanho do arquivo em MB: \"))\n",
    "velocidade = float(input(\"Insira a velocidade do link de internet em MBps: \"))\n",
    "\n",
    "tempo = (tamanho / velocidade) / 60\n",
    "\n",
    "print(\"\")\n",
    "print(\"O tempo necessário em minutos, para fazer o download do arquivo é de:\",'{:.2f}'.format(tempo))"
   ]
  },
  {
   "cell_type": "markdown",
   "id": "compressed-pillow",
   "metadata": {},
   "source": [
    "20.Ler dois valores para as variáveis A e B, e efetuar as trocas dos valores de forma que a\n",
    "variável A passe a possuir o valor da variável B e a variável B passe a possuir o valor\n",
    "da variável A. Apresentar os valores trocados."
   ]
  },
  {
   "cell_type": "code",
   "execution_count": 34,
   "id": "interim-eligibility",
   "metadata": {},
   "outputs": [
    {
     "name": "stdout",
     "output_type": "stream",
     "text": [
      "Insira o valor de A: 1\n",
      "Insira o valor de B: 2\n",
      "\n",
      "O novo valor de A é: 2.0\n",
      "o novo valor de B é: 1.0\n"
     ]
    }
   ],
   "source": [
    "a = float(input(\"Insira o valor de A: \")) #1\n",
    "b = float(input(\"Insira o valor de B: \")) #2\n",
    "\n",
    "b1 = a\n",
    "a1 = b\n",
    "\n",
    "print(\"\")\n",
    "print(\"O novo valor de A é:\",a1)\n",
    "print(\"o novo valor de B é:\",b1)"
   ]
  },
  {
   "cell_type": "markdown",
   "id": "about-forge",
   "metadata": {},
   "source": [
    "21.Faça um Programa que pergunte quanto você ganha por hora e o número de horas\n",
    "trabalhadas no mês. Calcule e mostre o total do seu salário no referido mês, sabendo-\n",
    "se que são descontados 11% para o Imposto de Renda, 8% para o INSS e 5% para o\n",
    "sindicato, faça um programa que nos dê:\n",
    "a) salário bruto.\n",
    "b) quanto pagou ao INSS.\n",
    "c) quanto pagou ao sindicato.\n",
    "d) o salário líquido.\n",
    "e) calcule os descontos e o salário líquido, conforme a tabela abaixo:"
   ]
  },
  {
   "cell_type": "code",
   "execution_count": null,
   "id": "hawaiian-zimbabwe",
   "metadata": {},
   "outputs": [],
   "source": [
    "valor_hora = float(input(\"Quanto você ganha por hora trabalhada? \"))\n",
    "total_hora = int(input(\"Quantas horas você trabalha por mês? \"))\n",
    "\n",
    "\n",
    "salario_bruto = valor_hora * total_hora\n",
    "ir = 11/100 * salario_bruto\n",
    "inss = 8/100 * salario_bruto\n",
    "sindicato = 5/100 * salario_bruto\n",
    "descontos = ir + inss + sindicato\n",
    "salario_liquido = salario_bruto - descontos\n",
    "\n",
    "print(\"\")\n",
    "print(\"O seu salário bruto é de:\",salario_bruto,\"Reais\")\n",
    "print(\"Você pagou ao INSS um valor de:\",inss,\"Reais\")\n",
    "print(\"Você pagou ao sindicato um valor de:\",sindicato,\"Reais\")\n",
    "print(\"E o seu salário líquido é de:\",salario_liquido,\"Reais\")"
   ]
  }
 ],
 "metadata": {
  "kernelspec": {
   "display_name": "Python 3",
   "language": "python",
   "name": "python3"
  },
  "language_info": {
   "codemirror_mode": {
    "name": "ipython",
    "version": 3
   },
   "file_extension": ".py",
   "mimetype": "text/x-python",
   "name": "python",
   "nbconvert_exporter": "python",
   "pygments_lexer": "ipython3",
   "version": "3.6.13"
  }
 },
 "nbformat": 4,
 "nbformat_minor": 5
}
