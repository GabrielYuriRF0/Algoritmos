{
 "cells": [
  {
   "cell_type": "markdown",
   "id": "affiliated-exercise",
   "metadata": {},
   "source": [
    "1.Faça um Programa que peça dois números e imprima o maior deles."
   ]
  },
  {
   "cell_type": "code",
   "execution_count": 6,
   "id": "global-print",
   "metadata": {},
   "outputs": [
    {
     "name": "stdout",
     "output_type": "stream",
     "text": [
      "Digite o primeiro número: 5\n",
      "Digite o segundo número: 10\n",
      "O maior número é: 10.0\n"
     ]
    }
   ],
   "source": [
    "n1 = float(input(\"Digite o primeiro número: \"))\n",
    "n2 = float(input(\"Digite o segundo número: \"))\n",
    "\n",
    "print(\"\")\n",
    "\n",
    "if n1 > n2:\n",
    "    print(\"O maior número é:\",n1)\n",
    "    \n",
    "else:\n",
    "    print(\"O maior número é:\",n2)"
   ]
  },
  {
   "cell_type": "markdown",
   "id": "confident-abuse",
   "metadata": {},
   "source": [
    "2.Faça um Programa que peça um valor e mostre na tela se o valor é positivo ou negativo. "
   ]
  },
  {
   "cell_type": "code",
   "execution_count": 9,
   "id": "sticky-frontier",
   "metadata": {},
   "outputs": [
    {
     "name": "stdout",
     "output_type": "stream",
     "text": [
      "Digite um número para saber se ele é positivo ou negativo: 0\n",
      "\n",
      "Esse número é zero!\n"
     ]
    }
   ],
   "source": [
    "n = float(input(\"Digite um número para saber se ele é positivo ou negativo: \"))\n",
    "\n",
    "print(\"\")\n",
    "\n",
    "if n > 0:\n",
    "    print(\"O número é positivo!\")\n",
    "    \n",
    "elif n < 0:\n",
    "    print(\"O número é negativo!\")\n",
    "    \n",
    "else:\n",
    "    print(\"Esse número é zero!\")"
   ]
  },
  {
   "cell_type": "markdown",
   "id": "tested-soccer",
   "metadata": {},
   "source": [
    "3.Faça um Programa que verifique se uma letra digitada é \"F\" ou \"M\". Conforme a letra escrever: F - Feminino, M - Masculino, Sexo Inválido. \n"
   ]
  },
  {
   "cell_type": "code",
   "execution_count": 14,
   "id": "floral-ranch",
   "metadata": {},
   "outputs": [
    {
     "name": "stdout",
     "output_type": "stream",
     "text": [
      "Digte F para feminino ou M para masculino:SDSDA\n",
      "\n",
      "Você digitou errado!\n"
     ]
    }
   ],
   "source": [
    "sexo = input(\"Digte F para feminino ou M para masculino:\" )\n",
    "\n",
    "print(\"\")\n",
    "             \n",
    "if sexo == \"F\":\n",
    "    print(\"O sexo é feminino\")\n",
    "\n",
    "elif sexo == \"M\":\n",
    "  print(\"O sexo é masculino\")  \n",
    "\n",
    "else:\n",
    "    print(\"Você digitou errado!\")"
   ]
  },
  {
   "cell_type": "markdown",
   "id": "authorized-cotton",
   "metadata": {},
   "source": [
    "4.Faça um programa para a leitura de duas notas parciais de um aluno. O programa deve calcular a média alcançada por aluno e apresentar: \n",
    "A mensagem \"Aprovado\", se a média alcançada for maior ou igual a sete; \n",
    "A mensagem \"Reprovado\", se a média for menor do que sete; \n",
    "A mensagem \"Aprovado com Distinção\", se a média for igual a dez. \n"
   ]
  },
  {
   "cell_type": "code",
   "execution_count": 21,
   "id": "prepared-copying",
   "metadata": {},
   "outputs": [
    {
     "name": "stdout",
     "output_type": "stream",
     "text": [
      "Insira a primeira nota: 10\n",
      "Insira a segunda nota: 10\n",
      "\n",
      "Calculando...\n",
      "Você foi aprovado com distinção!\n"
     ]
    }
   ],
   "source": [
    "import time\n",
    "n1 = float(input(\"Insira a primeira nota: \"))\n",
    "n2 = float(input(\"Insira a segunda nota: \"))\n",
    "\n",
    "m = (n1+n2)/2\n",
    "\n",
    "print(\"\")\n",
    "print(\"Calculando...\")\n",
    "time.sleep(5)\n",
    "\n",
    "if m>=7 and m<10:\n",
    "    print(\"Você foi aprovado!\")\n",
    "\n",
    "elif m<7:\n",
    "    print(\"Você foi reprovado\")\n",
    "    \n",
    "else:\n",
    "    if m == 10:\n",
    "        print(\"Você foi aprovado com distinção!\")"
   ]
  },
  {
   "cell_type": "markdown",
   "id": "cooperative-jonathan",
   "metadata": {},
   "source": [
    "5.Faça um Programa que leia três números e mostre o maior deles. "
   ]
  },
  {
   "cell_type": "code",
   "execution_count": 25,
   "id": "latest-consideration",
   "metadata": {},
   "outputs": [
    {
     "name": "stdout",
     "output_type": "stream",
     "text": [
      "Digite o primeiro número: 1\n",
      "Digite o segundo número: 5\n",
      "Digite o terceiro número: 20\n",
      "\n",
      "O maior número é: 20.0\n"
     ]
    }
   ],
   "source": [
    "n1 = float(input(\"Digite o primeiro número: \"))\n",
    "n2 = float(input(\"Digite o segundo número: \"))\n",
    "n3 = float(input(\"Digite o terceiro número: \"))\n",
    "print(\"\")\n",
    "\n",
    "if n1> n2 and n1>n3:\n",
    "    print(\"O maior número é:\",n1)\n",
    "\n",
    "elif n2>n1 and n2>n3:\n",
    "    print(\"O maior número é:\",n2)\n",
    "\n",
    "\n",
    "else:\n",
    "    if n3>n2 and n3>n1:\n",
    "        print(\"O maior número é:\",n3)\n",
    "        "
   ]
  },
  {
   "cell_type": "markdown",
   "id": "intermediate-penny",
   "metadata": {},
   "source": [
    "6.Faça um programa que pergunte o preço de três produtos e informe qual produto você deve comprar, sabendo que a decisão é sempre pelo mais barato"
   ]
  },
  {
   "cell_type": "code",
   "execution_count": 7,
   "id": "dressed-trinidad",
   "metadata": {},
   "outputs": [
    {
     "name": "stdout",
     "output_type": "stream",
     "text": [
      "Digite o turno que você estuda:M-matutino ou V-Vespertino ou N- Noturno M\n",
      "\n",
      "Bom dia!\n"
     ]
    }
   ],
   "source": [
    "turno = input(\"Digite o turno que você estuda:M-matutino ou V-Vespertino ou N- Noturno \")\n",
    "print(\"\")\n",
    "\n",
    "if turno == \"M\":\n",
    "    print(\"Bom dia!\")\n",
    "\n",
    "elif turno == \"V\":\n",
    "    print(\"Boa tarde!\")\n",
    "    \n",
    "elif turno == \"N\":\n",
    "    print(\"Boa noite!\")\n",
    "          \n",
    "else:\n",
    "    print(\"Valor inválido!\")"
   ]
  },
  {
   "cell_type": "code",
   "execution_count": 4,
   "id": "different-trial",
   "metadata": {},
   "outputs": [
    {
     "name": "stdout",
     "output_type": "stream",
     "text": [
      "Insira o valor do primeiro produto: 1\n",
      "Insira o valor do segundo produto: 5\n",
      "Insira o valor do terceiro produto: 7\n",
      "\n",
      "Você deve comprar o produto de: 1.0 Reais\n"
     ]
    }
   ],
   "source": [
    "p1 = float(input(\"Insira o valor do primeiro produto: \"))\n",
    "p2 = float(input(\"Insira o valor do segundo produto: \"))\n",
    "p3 = float(input(\"Insira o valor do terceiro produto: \"))\n",
    "print(\"\")\n",
    "\n",
    "if p1<p2 and p1<p3:\n",
    "    print(\"Você deve comprar o produto de:\",p1,\"Reais\")\n",
    "\n",
    "elif p2<p1 and p2<p3:\n",
    "    print(\"Você deve comprar o produto de:\",p2,\"Reais\")\n",
    "\n",
    "else:\n",
    "    if p3<p2 and p3<p1:\n",
    "        print(\"Você deve comprar o produto de:\",p3,\"Reais\")"
   ]
  },
  {
   "cell_type": "markdown",
   "id": "expected-adventure",
   "metadata": {},
   "source": [
    "7.Faça um Programa que pergunte em que turno você estuda. Peça para digitar M-matutino ou V-Vespertino ou N- Noturno. Imprima a mensagem \"Bom Dia!\", \"Boa Tarde!\" ou \"Boa Noite!\" ou \"Valor Inválido!\", conforme o caso. \n",
    "\n"
   ]
  },
  {
   "cell_type": "code",
   "execution_count": 12,
   "id": "local-quantity",
   "metadata": {},
   "outputs": [
    {
     "name": "stdout",
     "output_type": "stream",
     "text": [
      "Qual o turno que você estuda? M-matutino ou V-Vespertino ou N- Noturno SDASDSAD\n",
      "\n",
      "Valor inválido!\n"
     ]
    }
   ],
   "source": [
    "turno = input(\"Qual o turno que você estuda? M-matutino ou V-Vespertino ou N- Noturno \")\n",
    "print(\"\")\n",
    "\n",
    "if turno == \"M\":\n",
    "    print(\"Bom dia!\")\n",
    "\n",
    "elif turno == \"V\":\n",
    "    print(\"Boa tarde!\")\n",
    "    \n",
    "elif turno == \"N\":\n",
    "    print(\"Boa noite!\")\n",
    "    \n",
    "else:\n",
    "    print(\"Valor inválido!\")"
   ]
  },
  {
   "cell_type": "markdown",
   "id": "independent-graphics",
   "metadata": {},
   "source": [
    "8.As Organizações Tabajara resolveram dar um aumento de salário aos seus colaboradores e lhe contrataram para desenvolver o programa que calculará os reajustes. Faça um programa que recebe o salário de um colaborador e o reajuste segundo o seguinte critério, baseado no salário atual: \n",
    "\n",
    "salários até R$ 280,00 (incluindo) : aumento de 20% \n",
    "salários entre R$ 280,00 e R$ 700,00 : aumento de 15% \n",
    "salários entre R$ 700,00 e R$ 1500,00 : aumento de 10% \n",
    "salários de R$ 1500,00 em diante : aumento de 5% Após o aumento ser realizado, informe na tela: \n",
    "o salário antes do reajuste; \n",
    "o percentual de aumento aplicado; \n",
    "o valor do aumento; \n",
    "o novo salário, após o aumento. \n"
   ]
  },
  {
   "cell_type": "code",
   "execution_count": 17,
   "id": "developed-structure",
   "metadata": {},
   "outputs": [
    {
     "name": "stdout",
     "output_type": "stream",
     "text": [
      "Digite o seu salário para ser feito o reajuste: 10\n",
      "\n",
      "O seu salário antes do reajuste era de 10.00 Reais\n",
      "\n",
      "O seu salário vai sofrer um aumento de 20%\n",
      "\n",
      "Calculando...\n",
      "\n",
      "O valor do aumento vai ser de: 2.00 Reais\n",
      "\n",
      "E o seu novo salário é de: 12.00 Reais\n"
     ]
    }
   ],
   "source": [
    "import time\n",
    "\n",
    "salario = float(input(\"Digite o seu salário para ser feito o reajuste: \"))\n",
    "\n",
    "print(\"\")\n",
    "\n",
    "if salario<=280:\n",
    "    print(\"O seu salário antes do reajuste era de\",'{:.2f}'.format(salario),\"Reais\")\n",
    "    print(\"\")\n",
    "    print(\"O seu salário vai sofrer um aumento de 20%\")\n",
    "    print(\"\")\n",
    "    \n",
    "    print(\"Calculando...\")\n",
    "    time.sleep(3)\n",
    "    print(\"\")\n",
    "    \n",
    "    aumento = salario*20/100\n",
    "    salario_novo = salario + aumento\n",
    "    \n",
    "    print(\"O valor do aumento vai ser de:\",'{:.2f}'.format(aumento),'Reais')\n",
    "    print(\"\")\n",
    "    print(\"E o seu novo salário é de:\",'{:.2f}'.format(salario_novo),\"Reais\")\n",
    "    \n",
    "    \n",
    "    \n",
    "    \n",
    "elif salario>=280 and salario<=700:\n",
    "    print(\"O seu salário antes do reajuste era de\",'{:.2f}'.format(salario),\"Reais\")\n",
    "    print(\"\")\n",
    "    print(\"O seu salário vai sofrer um aumento de 15%\")\n",
    "    print(\"\")\n",
    "    \n",
    "    print(\"Calculando...\")\n",
    "    time.sleep(3)\n",
    "    print(\"\")\n",
    "    \n",
    "    aumento = salario*15/100\n",
    "    salario_novo = salario + aumento\n",
    "    \n",
    "    print(\"O valor do aumento vai ser de:\",'{:.2f}'.format(aumento),'Reais')\n",
    "    print(\"\")\n",
    "    print(\"E o seu novo salário é de:\",'{:.2f}'.format(salario_novo),\"Reais\")\n",
    "    \n",
    "\n",
    "    \n",
    "elif salario>700 and salario<=1500:\n",
    "    print(\"O seu salário antes do reajuste era de\",'{:.2f}'.format(salario),\"Reais\")\n",
    "    print(\"\")\n",
    "    print(\"O seu salário vai sofrer um aumento de 10%\")\n",
    "    print(\"\")\n",
    "    \n",
    "    print(\"Calculando...\")\n",
    "    time.sleep(3)\n",
    "    print(\"\")\n",
    "    \n",
    "    aumento = salario*10/100\n",
    "    salario_novo = salario + aumento\n",
    "    \n",
    "    print(\"O valor do aumento vai ser de:\",'{:.2f}'.format(aumento),'Reais')\n",
    "    print(\"\")\n",
    "    print(\"E o seu novo salário é de:\",'{:.2f}'.format(salario_novo),\"Reais\")\n",
    "    \n",
    "    \n",
    "\n",
    "elif salario>1500:\n",
    "    print(\"O seu salário antes do reajuste era de\",'{:.2f}'.format(salario),\"Reais\")\n",
    "    print(\"\")\n",
    "    print(\"O seu salário vai sofrer um aumento de 15%\")\n",
    "    print(\"\")\n",
    "    \n",
    "    print(\"Calculando...\")\n",
    "    time.sleep(3)\n",
    "    print(\"\")\n",
    "    \n",
    "    aumento = salario*15/100\n",
    "    salario_novo = salario + aumento\n",
    "    \n",
    "    print(\"O valor do aumento vai ser de:\",'{:.2f}'.format(aumento),'Reais')\n",
    "    print(\"\")\n",
    "    print(\"E o seu novo salário é de:\",'{:.2f}'.format(salario_novo),\"Reais\")\n",
    "    \n",
    "    \n",
    "    "
   ]
  },
  {
   "cell_type": "markdown",
   "id": "tested-witch",
   "metadata": {},
   "source": [
    "9.Faça um programa para o cálculo de uma folha de pagamento, sabendo que os descontos são do Imposto de Renda, que depende do salário bruto (conforme tabela abaixo) e 3% para o Sindicato e que o FGTS corresponde a 11% do Salário Bruto, mas não é descontado (é a empresa que deposita). O Salário Líquido corresponde ao Salário Bruto menos os descontos. O programa deverá pedir ao usuário o valor da sua hora e a quantidade de horas trabalhadas no mês. \n",
    "Desconto do IR: \n",
    "Salário Bruto até 900 (inclusive) - isento \n",
    "Salário Bruto até 1500 (inclusive) - desconto de 5% \n",
    "Salário Bruto até 2500 (inclusive) - desconto de 10% \n",
    "Salário Bruto acima de 2500 - desconto de 20% \n",
    "Imprima na tela as informações, dispostas conforme o exemplo abaixo. No exemplo o valor da hora é 5 e a quantidade de hora é 220. \n",
    "        Salário Bruto: (5 * 220)        : R$ 1100,00\n",
    "        (-) IR (5%)                     : R$   55,00  \n",
    "        (-) INSS ( 10%)                 : R$  110,00\n",
    "        FGTS (11%)                      : R$  121,00\n",
    "        Total de descontos              : R$  165,00\n",
    "Salário Liquido                 : R$  935,00\n"
   ]
  },
  {
   "cell_type": "code",
   "execution_count": null,
   "id": "final-passenger",
   "metadata": {},
   "outputs": [],
   "source": [
    "valor_hora = float(input(\"Qual o valor da sua hora trabalhada ?\"))\n",
    "horas_totais = float(input(\"Quantas horas você trabalha por mês ? \"))\n",
    "\n",
    "ir2 = 0\n",
    "\n",
    "salario_bruto = valor_hora*horas_totais\n",
    "\n",
    "if salario_bruto<=900:\n",
    "    ir = 0\n",
    "    ir = ir2\n",
    "\n",
    "elif salario_bruto>900 and salario_bruto<=1500:\n",
    "    ir = salario_bruto*5/100\n",
    "    \n",
    "elif salario_bruto>1500 and salario_bruto<=2500:\n",
    "    ir = salario_bruto*10/100\n",
    "    \n",
    "elif salario_bruto>2500:\n",
    "    ir = salario_bruto*20/100\n",
    "    \n",
    "\n",
    "print(ir2)"
   ]
  },
  {
   "cell_type": "markdown",
   "id": "psychological-memory",
   "metadata": {},
   "source": [
    "11.Faça um programa que lê as duas notas parciais obtidas por um aluno numa disciplina ao longo de um semestre, e calcule a sua média. A atribuição de conceitos obedece à tabela abaixo: \n",
    "  Média de Aproveitamento  Conceito\n",
    "  Entre 9.0 e 10.0       A\n",
    "  Entre 7.5 e 9.0         B\n",
    "  Entre 6.0 e 7.5         C\n",
    "  Entre 4.0 e 6.0         D\n",
    "  Entre 4.0 e zero       E"
   ]
  },
  {
   "cell_type": "code",
   "execution_count": null,
   "id": "introductory-bottom",
   "metadata": {},
   "outputs": [],
   "source": [
    "n1 = float(input(\"Insira a primeira nota: \"))\n",
    "n2 = float(input(\"Insira a segunda nota: \"))\n",
    "print(\"\")\n",
    "\n",
    "m = (n1+n2)/2\n",
    "\n",
    "if m>=9 and m<=10:\n",
    "    print(\"Conceito A!\")\n",
    "\n",
    "elif m>=7.5 and m<=9:\n",
    "    print(\"Conceito B!\")\n",
    "    \n",
    "elif m>=6 and m<=7.5:\n",
    "    print(\"Conceito C!\")\n",
    "    \n",
    "elif m>=4 and m<=6:\n",
    "    print(\"Conceito D!\")\n",
    "\n",
    "elif m>=4 and m<=0:\n",
    "    print(\"Conceito E!\")"
   ]
  },
  {
   "cell_type": "markdown",
   "id": "contained-cigarette",
   "metadata": {},
   "source": [
    "12.Faça um Programa que peça os 3 lados de um triângulo. O programa deverá informar se os valores podem ser um triângulo. Indique, caso os lados formem um triângulo, se o mesmo é: equilátero, isósceles ou escaleno. \n",
    "Dicas: Três lados formam um triângulo quando a soma de quaisquer dois lados for maior que o terceiro; Triângulo Equilátero: três lados iguais; Triângulo isósceles: quaisquer dois lados iguais; Triângulo Escaleno: três lados diferentes; \n"
   ]
  },
  {
   "cell_type": "code",
   "execution_count": 42,
   "id": "honest-thumb",
   "metadata": {},
   "outputs": [
    {
     "name": "stdout",
     "output_type": "stream",
     "text": [
      "Digite o valor de a: 10\n",
      "Digite o valor de b: 12\n",
      "Digite o valor de c: 11\n",
      "\n",
      "Esses lados podem formar um triângulo!\n",
      "\n",
      "É um triângulo escaleno\n"
     ]
    }
   ],
   "source": [
    "a = input(\"Digite o valor de a: \")\n",
    "b = input(\"Digite o valor de b: \")\n",
    "c = input(\"Digite o valor de c: \")\n",
    "print(\"\")\n",
    "\n",
    "if (a+b>c) or (a+c>b) or (c+b>a):\n",
    "    print(\"Esses lados podem formar um triângulo!\")\n",
    "    print(\"\")\n",
    "    \n",
    "    if (a==b==c):\n",
    "        print(\"É um triângulo equilátero\")\n",
    "\n",
    "    if (a!=b) and (b!=c) and (c!=a):\n",
    "        print(\"É um triângulo escaleno\")\n",
    "        \n",
    "    if a == b or b == c or a == c  :\n",
    "        print(\"É um triângulo isósceles\")\n",
    "\n",
    "else:\n",
    "    print(\"Não é possível formar um triângulo com esses lados\")\n",
    "\n",
    "\n",
    "\n",
    "\n",
    "    \n"
   ]
  },
  {
   "cell_type": "markdown",
   "id": "informational-pledge",
   "metadata": {},
   "source": [
    "13.Faça um programa que calcule as raízes de uma equação do segundo grau, na forma ax2 + bx + c. O programa deverá pedir os valores de a, b e c e fazer as consistências, informando ao usuário nas seguintes situações: \n",
    "Se o usuário informar o valor de A igual a zero, a equação não é do segundo grau e o programa não deve fazer pedir os demais valores, sendo encerrado; \n",
    "Se o delta calculado for negativo, a equação não possui raizes reais. Informe ao usuário e encerre o programa; \n",
    "Se o delta calculado for igual a zero a equação possui apenas uma raiz real; informe-a ao usuário; \n",
    "Se o delta for positivo, a equação possui duas raiz reais; informe-as ao usuário; \n"
   ]
  },
  {
   "cell_type": "code",
   "execution_count": 3,
   "id": "respective-disclaimer",
   "metadata": {},
   "outputs": [
    {
     "name": "stdout",
     "output_type": "stream",
     "text": [
      "Digite o valor do coeficiente a: 1\n",
      "Digite o valor do coeficiente b: 3\n",
      "Digite o valor do coeficiente c: -10\n",
      "A equação possui duas raizes reais, que valem: 2.0 e -5.0\n"
     ]
    }
   ],
   "source": [
    "import math\n",
    "\n",
    "a = float(input(\"Digite o valor do coeficiente a: \"))\n",
    "\n",
    "while a==0:\n",
    "    a = float(input(\"O valor de a não pode ser 0, digite novamente: \"))\n",
    "    \n",
    "b = float(input(\"Digite o valor do coeficiente b: \"))\n",
    "c = float(input(\"Digite o valor do coeficiente c: \"))\n",
    "\n",
    "delta = math.pow(b,2) - 4 * a * c\n",
    "\n",
    "if delta<0:\n",
    "    print(\"Essa equação não possui raizes reais!\")\n",
    "\n",
    "elif delta==0:\n",
    "    x1 = (-b + math.sqrt(delta))/(2*a)\n",
    "    print(\"A equação possui uma raiz real, que vale:\",x1)\n",
    "\n",
    "else:\n",
    "    x1 = (-b + math.sqrt(delta))/(2*a)\n",
    "    x2 = (-b - math.sqrt(delta))/(2*a)\n",
    "    print(\"A equação possui duas raizes reais, que valem:\",x1,\"e\",x2)\n",
    "    \n",
    "\n",
    "    \n"
   ]
  },
  {
   "cell_type": "markdown",
   "id": "99070226",
   "metadata": {},
   "source": [
    "14.Faça um Programa que peça um número correspondente a um determinado ano e em seguida informe se este ano é ou não bissexto. "
   ]
  },
  {
   "cell_type": "code",
   "execution_count": 25,
   "id": "a2d85fa8",
   "metadata": {},
   "outputs": [
    {
     "name": "stdout",
     "output_type": "stream",
     "text": [
      "Informe um ano: 5000\n",
      "5000 Esse ano não é bisssexto!\n"
     ]
    }
   ],
   "source": [
    "ano = int(input(\"Informe um ano: \"))\n",
    "\n",
    "if (ano % 4 == 0) and (ano % 100 != 0) or (ano % 4 == 0) and (ano % 100 == 0) and (ano % 400 == 0) :\n",
    "    print(ano,\"É um ano bissexto!\")\n",
    "\n",
    "else:\n",
    "    print(ano,\"Esse ano não é bisssexto!\")\n",
    "\n",
    "        \n"
   ]
  },
  {
   "cell_type": "markdown",
   "id": "8fb6d971",
   "metadata": {},
   "source": [
    "15.Faça um Programa para leitura de três notas parciais de um aluno. O programa deve calcular a média alcançada por aluno e apresentar: \n",
    "A mensagem \"Aprovado\", se a média for maior ou igual a 7, com a respectiva média alcançada; \n",
    "A mensagem \"Reprovado\", se a média for menor do que 7, com a respectiva média alcançada; \n",
    "A mensagem \"Aprovado com Distinção\", se a média for igual a 10. \n"
   ]
  },
  {
   "cell_type": "code",
   "execution_count": 4,
   "id": "85fd0cad",
   "metadata": {},
   "outputs": [
    {
     "name": "stdout",
     "output_type": "stream",
     "text": [
      "Insira a primeira nota: 6\n",
      "Insira a segunda nota: 6\n",
      "Insira a terceira nota: 6\n",
      "\n",
      "Reprovado com média 6.0\n"
     ]
    }
   ],
   "source": [
    "n1 = float(input(\"Insira a primeira nota: \"))\n",
    "n2 = float(input(\"Insira a segunda nota: \"))\n",
    "n3 = float(input(\"Insira a terceira nota: \"))\n",
    "print('')\n",
    "\n",
    "m = (n1 + n2 + n3) / 3\n",
    "\n",
    "if m >= 7 and m < 10:\n",
    "    print(\"Aprovado com media:\",m)\n",
    "\n",
    "elif m < 7:\n",
    "    print(\"Reprovado com média\",m)\n",
    "\n",
    "else:\n",
    "    print(\"Aprovado com distinção\")"
   ]
  },
  {
   "cell_type": "code",
   "execution_count": null,
   "id": "77a3e461",
   "metadata": {},
   "outputs": [],
   "source": []
  },
  {
   "cell_type": "markdown",
   "id": "a14aa77c",
   "metadata": {},
   "source": [
    "16.Faça um Programa para um caixa eletrônico. O programa deverá perguntar ao usuário a valor do saque e depois informar quantas notas de cada valor serão fornecidas. As notas disponíveis serão as de 1, 5, 10, 50 e 100 reais. O valor mínimo é de 10 reais e o máximo de 600 reais. O programa não deve se preocupar com a quantidade de notas existentes na máquina. \n",
    "Exemplo 1: Para sacar a quantia de 256 reais, o programa fornece duas notas de 100, uma nota de 50, uma nota de 5 e uma nota de 1; \n",
    "Exemplo 2: Para sacar a quantia de 399 reais, o programa fornece três notas de 100, uma nota de 50, quatro notas de 10, uma nota de 5 e quatro notas de 1. \n"
   ]
  },
  {
   "cell_type": "code",
   "execution_count": 4,
   "id": "c1776e2b",
   "metadata": {},
   "outputs": [
    {
     "name": "stdout",
     "output_type": "stream",
     "text": [
      "Qual o valor a ser sacado? R$1\n",
      "Só é permitido saques entre 10 e 600 Reais! Digite novamente o valor a ser sacado: R$50\n",
      "1.0 notas de R$ 50\n"
     ]
    }
   ],
   "source": [
    "# Notas disponíveis: 1, 5, 10, 50 e 100\n",
    "saque = float(input(\"Qual o valor a ser sacado? R$\"))\n",
    "\n",
    "while saque < 10 or saque > 600:\n",
    "    saque = float(input(\"Só é permitido saques entre 10 e 600 Reais! Digite novamente o valor a ser sacado: R$\"))\n",
    "\n",
    "for nota in [100,50,10,5,1]:\n",
    "    quantidade = saque // nota\n",
    "    saque = saque % nota\n",
    "    if quantidade > 0:\n",
    "        print(f'{quantidade} notas de R$ {nota}')"
   ]
  },
  {
   "cell_type": "markdown",
   "id": "218e76cb",
   "metadata": {},
   "source": [
    "17.Faça um Programa que peça um número inteiro e determine se ele é par ou impar. \n"
   ]
  },
  {
   "cell_type": "code",
   "execution_count": null,
   "id": "56cd561d",
   "metadata": {},
   "outputs": [],
   "source": [
    "n = float(input(\"Digite um número:\"))\n",
    "\n",
    "if (n % 2 == 0):\n",
    "    print(\"Esse é um número Par!\")\n",
    "\n",
    "else:\n",
    "    print(\"Esse é um número Impar!\")"
   ]
  },
  {
   "cell_type": "markdown",
   "id": "23dae6fe",
   "metadata": {},
   "source": [
    "18.Faça um Programa que leia 2 números e em seguida pergunte ao usuário qual operação ele deseja realizar. O resultado da operação deve ser acompanhado de uma frase que diga se o número é: \n",
    "par ou ímpar; \n",
    "positivo ou negativo; \n",
    "inteiro ou decimal. \n"
   ]
  },
  {
   "cell_type": "code",
   "execution_count": 7,
   "id": "79fba71f",
   "metadata": {},
   "outputs": [
    {
     "name": "stdout",
     "output_type": "stream",
     "text": [
      "Digite um número: 10\n",
      "Digite outro número: 10\n",
      "Qual operação você deseja realizar? 1 - Soma, 2 - Subtração, 3 - Multiplicação, 4 - Divisão 2\n",
      "<class 'int'>\n",
      "A subtração dos número é: 0.0\n",
      "A subtração é Impar!\n",
      "A subtração é negativa\n",
      "A subtração é inteira\n"
     ]
    }
   ],
   "source": [
    "n1 = float(input(\"Digite um número: \"))\n",
    "n2 = float(input(\"Digite outro número: \"))\n",
    "operacao = int(input(\"Qual operação você deseja realizar? 1 - Soma, 2 - Subtração, 3 - Multiplicação, 4 - Divisão \"))\n",
    "print(type(operacao))\n",
    "\n",
    "if operacao == 1:\n",
    "    soma = n1 + n2\n",
    "    print(\"A soma dos número é:\",soma)\n",
    "    if (soma % 2 == 0):\n",
    "        print(\"A soma é Par!\")\n",
    "    else:\n",
    "        print(\"A soma é Impar!\")\n",
    "        \n",
    "    if (soma > 0) and (soma != 0):\n",
    "        print(\"A soma é positiva\")\n",
    "    \n",
    "    else:\n",
    "        print(\"A soma é negativa\")\n",
    "    \n",
    "    if soma // 1 == soma:\n",
    "        print(\"A soma é inteira\")\n",
    "        \n",
    "    else:\n",
    "        print(\"A soma é decimal\")\n",
    "    \n",
    "if operacao == 2:\n",
    "    subtracao = n1 - n2\n",
    "    print(\"A subtração dos número é:\",subtracao)\n",
    "    if (soma % 2 == 0):\n",
    "        print(\"A subtração é Par!\")\n",
    "    else:\n",
    "        print(\"A subtração é Impar!\")\n",
    "        \n",
    "    if (subtracao > 0) and (subtracao != 0):\n",
    "        print(\"A subtração é positiva\")\n",
    "    \n",
    "    else:\n",
    "        print(\"A subtração é negativa\")\n",
    "    \n",
    "    if subtracao // 1 == subtracao:\n",
    "        print(\"A subtração é inteira\")\n",
    "        \n",
    "    else:\n",
    "        print(\"A subtração é decimal\")\n",
    "        \n",
    "        \n",
    "if operacao == 3:\n",
    "    multiplicacao = n1 * n2\n",
    "    print(\"A multiplicação dos número é:\",multiplicacao)\n",
    "    if (multiplicacao % 2 == 0):\n",
    "        print(\"A multiplicação é Par!\")\n",
    "    else:\n",
    "        print(\"A multiplicação é Impar!\")\n",
    "        \n",
    "    if (multiplicacao > 0) and (multiplicacao != 0):\n",
    "        print(\"A multiplicação é positiva\")\n",
    "    \n",
    "    else:\n",
    "        print(\"A multiplicação é negativa\")\n",
    "    \n",
    "    if multiplicacao // 1 == multiplicacao:\n",
    "        print(\"A multiplicação é inteira\")\n",
    "        \n",
    "    else:\n",
    "        print(\"A multiplicação é decimal\")\n",
    "\n",
    "if operacao == 4:\n",
    "    divisao = n1 / n2\n",
    "    print(\"A divisão dos número é:\",divisao)\n",
    "    if (divisao % 2 == 0):\n",
    "        print(\"A divisão é Par!\")\n",
    "    else:\n",
    "        print(\"A divisão é Impar!\")\n",
    "        \n",
    "    if (divisao > 0) and (divisao != 0):\n",
    "        print(\"A divisão é positiva\")\n",
    "    \n",
    "    else:\n",
    "        print(\"A divisão é negativa\")\n",
    "    \n",
    "    if divisao // 1 == divisao:\n",
    "        print(\"A multiplicação é inteira\")\n",
    "        \n",
    "    else:\n",
    "        print(\"A multiplicação é decimal\")"
   ]
  },
  {
   "cell_type": "markdown",
   "id": "447e006f",
   "metadata": {},
   "source": [
    "19.Faça um programa que faça 5 perguntas para uma pessoa sobre um crime. As perguntas são: \n",
    "\"Telefonou para a vítima?\" \n",
    "\"Esteve no local do crime?\" \n",
    "\"Mora perto da vítima?\" \n",
    "\"Devia para a vítima?\" \n",
    "\"Já trabalhou com a vítima?\" O programa deve no final emitir uma classificação sobre a participação da pessoa no crime. Se a pessoa responder positivamente a 2 questões ela deve ser classificada como \"Suspeita\", entre 3 e 4 como \"Cúmplice\" e 5 como \"Assassino\". Caso contrário, ele será classificado como \"Inocente\". \n"
   ]
  },
  {
   "cell_type": "code",
   "execution_count": 9,
   "id": "aed22529",
   "metadata": {},
   "outputs": [
    {
     "name": "stdout",
     "output_type": "stream",
     "text": [
      "Telefonou para a vítima? Digite: 1 para SIM, 0 para NÃO 0\n",
      "Esteve no local do crime? Digite: 1 para SIM, 0 para NÃO 0\n",
      "Mora perto da vítima?? Digite: 1 para SIM, 0 para NÃO 0\n",
      "Devia para a vítima? Digite: 1 para SIM, 0 para NÃO 0\n",
      "Já trabalhou com a vítima? Digite: 1 para SIM, 0 para NÃO 0\n",
      "Inocente\n"
     ]
    }
   ],
   "source": [
    "p1 = int(input(\"Telefonou para a vítima? Digite: 1 para SIM, 0 para NÃO \"))\n",
    "p2 = int(input(\"Esteve no local do crime? Digite: 1 para SIM, 0 para NÃO \"))\n",
    "p3 = int(input(\"Mora perto da vítima?? Digite: 1 para SIM, 0 para NÃO \"))\n",
    "p4 = int(input(\"Devia para a vítima? Digite: 1 para SIM, 0 para NÃO \"))\n",
    "p5 = int(input(\"Já trabalhou com a vítima? Digite: 1 para SIM, 0 para NÃO \"))\n",
    "\n",
    "resultado = p1 + p2 + p3 + p4 + p5\n",
    "\n",
    "if resultado == 2:\n",
    "    print(\"Suspeito\")\n",
    "\n",
    "if resultado == 3 or resultado == 4:\n",
    "    print(\"Cúmplice\")\n",
    "\n",
    "if resultado == 5:\n",
    "    print(\"Assassino\")\n",
    "\n",
    "elif resultado == 1 or resultado == 0:\n",
    "    print(\"Inocente\")\n",
    "        "
   ]
  },
  {
   "cell_type": "markdown",
   "id": "393a3377",
   "metadata": {},
   "source": [
    "20.Um posto está vendendo combustíveis com a seguinte tabela de descontos: \n",
    "Álcool: \n",
    "- até 20 litros, desconto de 3% por litro \n",
    "- acima de 20 litros, desconto de 5% por litro \n",
    "\n",
    "Gasolina: \n",
    "- até 20 litros, desconto de 4% por litro \n",
    "- acima de 20 litros, desconto de 6% por litro.\n",
    "\n",
    "\n",
    "Escreva um algoritmo que leia o número de litros vendidos, o tipo de combustível (codificado da seguinte forma: A-álcool, G-gasolina), calcule e imprima o valor a ser pago pelo cliente sabendo-se que o preço do litro da gasolina é R$ 2,50 o preço do litro do álcool é R$ 1,90. \n",
    "\n"
   ]
  },
  {
   "cell_type": "code",
   "execution_count": 16,
   "id": "cd5392e8",
   "metadata": {},
   "outputs": [
    {
     "name": "stdout",
     "output_type": "stream",
     "text": [
      "Qual combustível você vai querer? Digite A para Álcool ou  G para Gasolina: G\n",
      "Quantos litros você vai querer? 30\n",
      "Você ira pagar R$70.50\n"
     ]
    }
   ],
   "source": [
    "# G: R$ 2,50/L  A: R$ 1,90/L\n",
    "tipo = input(\"Qual combustível você vai querer? Digite A para Álcool ou  G para Gasolina: \")\n",
    "litros = float(input(\"Quantos litros você vai querer? \"))\n",
    "\n",
    "if tipo == \"A\" and litros <= 20:\n",
    "    total = litros * 1.9\n",
    "    desconto = total*0.03\n",
    "    valor_a_pagar = total - desconto\n",
    "    print('Você ira pagar','R$' '{:.2F}'.format(valor_a_pagar))\n",
    "\n",
    "elif tipo == \"A\" and litros > 20:\n",
    "    total = litros * 1.9\n",
    "    desconto = total*0.05\n",
    "    valor_a_pagar = total - desconto\n",
    "    print('Você ira pagar','R$' '{:.2F}'.format(valor_a_pagar))\n",
    "    \n",
    "elif tipo == \"G\" and litros <= 20:\n",
    "    total = litros * 2.5\n",
    "    desconto = total*0.04\n",
    "    valor_a_pagar = total - desconto\n",
    "    print('Você ira pagar','R$' '{:.2F}'.format(valor_a_pagar))\n",
    "    \n",
    "elif tipo == \"G\" and litros > 20:\n",
    "    total = litros * 2.5\n",
    "    desconto = total*0.06\n",
    "    valor_a_pagar = total - desconto\n",
    "    print('Você ira pagar','R$' '{:.2F}'.format(valor_a_pagar))"
   ]
  },
  {
   "cell_type": "markdown",
   "id": "02e921e4",
   "metadata": {},
   "source": [
    "21. Uma fruteira está vendendo frutas com a seguinte tabela de preços:\n",
    "- Até 5 Kg Acima de 5 Kg\n",
    "- Morango R$ 2,50 por Kg R$ 2,20 por Kg\n",
    "- Maçã R$ 1,80 por Kg R$ 1,50 por Kg\n",
    "\n",
    "Se o cliente comprar mais de 8 Kg em frutas ou o valor total da compra ultrapassar R$\n",
    "25,00, receberá ainda um desconto de 10% sobre este total. Escreva um algoritmo\n",
    "para ler a quantidade (em Kg) de morangos e a quantidade (em Kg) de maças\n",
    "adquiridas e escreva o valor a ser pago pelo cliente.\n"
   ]
  },
  {
   "cell_type": "code",
   "execution_count": 2,
   "id": "a439db27",
   "metadata": {},
   "outputs": [
    {
     "name": "stdout",
     "output_type": "stream",
     "text": [
      "Quantos KG de morango você vai querer? 4\n",
      "Quantos KG de maçã você vai querer? 6\n",
      "Você vai pagar R$ 17.1\n"
     ]
    }
   ],
   "source": [
    "morangos = float(input(\"Quantos KG de morango você vai querer? \"))\n",
    "macas = float(input(\"Quantos KG de maçã você vai querer? \"))\n",
    "\n",
    "preco_morangos = 2.5\n",
    "preco_macas = 1.8\n",
    "\n",
    "if morangos > 5:\n",
    "    preco_morangos = 2.2\n",
    "    \n",
    "if macas > 5:\n",
    "    preco_macas = 1.5\n",
    "\n",
    "preco_total = morangos * preco_morangos + macas * preco_macas\n",
    "\n",
    "if (preco_total > 25) or (morangos + macas > 8):\n",
    "    preco_total -= 0.1 * preco_total\n",
    "\n",
    "print(\"Você vai pagar R$\",preco_total)"
   ]
  },
  {
   "cell_type": "markdown",
   "id": "1f2025b2",
   "metadata": {},
   "source": [
    "22.Elabore um algoritmo que dada a idade de um nadador classifica-o em uma das\n",
    "seguintes categorias: infantil A = 5 - 7 anos; infantil B = 8-10 anos; juvenil A = 11-13\n",
    "anos; juvenil B = 14-17 anos; adulto = maiores de 18 anos"
   ]
  },
  {
   "cell_type": "code",
   "execution_count": null,
   "id": "f9830cfe",
   "metadata": {},
   "outputs": [],
   "source": [
    "idade = int(input(\"Informe a sua idade: \"))\n",
    "\n",
    "if (idade >= 5) and (idade <= 7):\n",
    "    print(\"Infantil A\")\n",
    "\n",
    "if (idade >= 8) and (idade <= 10):\n",
    "    print(\"Infantil B\")\n",
    "    \n",
    "if (idade >= 11) and (idade <= 13):\n",
    "    print(\"Juvevil A\")\n",
    "\n",
    "if (idade >= 14) and (idade <= 17):\n",
    "    print(\"Juvevil B\")\n",
    "    \n",
    "elif (idade >= 18):\n",
    "    print('Adulto')"
   ]
  },
  {
   "cell_type": "markdown",
   "id": "5125a773",
   "metadata": {},
   "source": [
    "23.Tendo como dados de entrada a altura e o sexo de uma pessoa, construa um algoritmo\n",
    "que calcule seu peso ideal, utilizando as seguintes fórmulas: para homens: (72.7*h) –\n",
    "58 e para mulheres: (62.1*h) - 44.7 (h = altura)"
   ]
  },
  {
   "cell_type": "code",
   "execution_count": 3,
   "id": "14499c12",
   "metadata": {},
   "outputs": [
    {
     "name": "stdout",
     "output_type": "stream",
     "text": [
      "Insira a sua altura: 1.8\n",
      "Digite M para Masculino ou F para Feminino: m\n",
      "O seu peso ideal é de: 67.08 KG\n"
     ]
    }
   ],
   "source": [
    "h = float(input(\"Insira a sua altura: \"))\n",
    "sexo = input(\"Digite M para Masculino ou F para Feminino: \")\n",
    "\n",
    "if sexo == \"M\":\n",
    "    peso_ideal = (72.7*h) - 58\n",
    "\n",
    "else:\n",
    "    peso_ideal = (62.1*h) - 44.7\n",
    "    \n",
    "print(\"O seu peso ideal é de:\",'{:.2F}'.format(peso_ideal),\"KG\")"
   ]
  },
  {
   "cell_type": "code",
   "execution_count": null,
   "id": "448a8f6e",
   "metadata": {},
   "outputs": [],
   "source": []
  }
 ],
 "metadata": {
  "kernelspec": {
   "display_name": "Python 3",
   "language": "python",
   "name": "python3"
  },
  "language_info": {
   "codemirror_mode": {
    "name": "ipython",
    "version": 3
   },
   "file_extension": ".py",
   "mimetype": "text/x-python",
   "name": "python",
   "nbconvert_exporter": "python",
   "pygments_lexer": "ipython3",
   "version": "3.8.8"
  }
 },
 "nbformat": 4,
 "nbformat_minor": 5
}
